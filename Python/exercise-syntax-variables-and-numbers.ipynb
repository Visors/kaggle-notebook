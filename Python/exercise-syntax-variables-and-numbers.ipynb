{
 "cells": [
  {
   "cell_type": "markdown",
   "id": "6143298a",
   "metadata": {
    "papermill": {
     "duration": 0.005927,
     "end_time": "2025-02-25T07:48:45.528655",
     "exception": false,
     "start_time": "2025-02-25T07:48:45.522728",
     "status": "completed"
    },
    "tags": []
   },
   "source": [
    "**This notebook is an exercise in the [Python](https://www.kaggle.com/learn/python) course.  You can reference the tutorial at [this link](https://www.kaggle.com/colinmorris/hello-python).**\n",
    "\n",
    "---\n"
   ]
  },
  {
   "cell_type": "markdown",
   "id": "cb072b6a",
   "metadata": {
    "papermill": {
     "duration": 0.004974,
     "end_time": "2025-02-25T07:48:45.539508",
     "exception": false,
     "start_time": "2025-02-25T07:48:45.534534",
     "status": "completed"
    },
    "tags": []
   },
   "source": [
    "Welcome to your first set of Python coding problems.  If this is your first time using Kaggle Notebooks, welcome! \n",
    "\n",
    "Notebooks are composed of blocks (called \"cells\") of text and code. Each of these is editable, though you'll mainly be editing the code cells to answer some questions.\n",
    "\n",
    "To get started, try running the code cell below (by pressing the ► button, or clicking on the cell and pressing ctrl+enter on your keyboard)."
   ]
  },
  {
   "cell_type": "code",
   "execution_count": 1,
   "id": "6d4ff839",
   "metadata": {
    "execution": {
     "iopub.execute_input": "2025-02-25T07:48:45.551703Z",
     "iopub.status.busy": "2025-02-25T07:48:45.551347Z",
     "iopub.status.idle": "2025-02-25T07:48:45.558303Z",
     "shell.execute_reply": "2025-02-25T07:48:45.557210Z"
    },
    "papermill": {
     "duration": 0.015237,
     "end_time": "2025-02-25T07:48:45.559946",
     "exception": false,
     "start_time": "2025-02-25T07:48:45.544709",
     "status": "completed"
    },
    "tags": []
   },
   "outputs": [
    {
     "name": "stdout",
     "output_type": "stream",
     "text": [
      "You've successfully run some Python code\n",
      "Congratulations!\n"
     ]
    }
   ],
   "source": [
    "print(\"You've successfully run some Python code\")\n",
    "print(\"Congratulations!\")"
   ]
  },
  {
   "cell_type": "markdown",
   "id": "e87be053",
   "metadata": {
    "papermill": {
     "duration": 0.005111,
     "end_time": "2025-02-25T07:48:45.570617",
     "exception": false,
     "start_time": "2025-02-25T07:48:45.565506",
     "status": "completed"
    },
    "tags": []
   },
   "source": [
    "Try adding another line of code in the cell above and re-running it. \n",
    "\n",
    "Now let's get a little fancier:  Add a new code cell by clicking on an existing code cell, hitting the escape key, and then hitting the `a` or `b` key.  The `a` key will add a cell above the current cell, and `b` adds a cell below.\n",
    "\n",
    "Great! Now you know how to use Notebooks.\n",
    "\n",
    "Each hands-on exercise starts by setting up our feedback and code checking mechanism. Run the code cell below to do that. Then you'll be ready to move on to question 0."
   ]
  },
  {
   "cell_type": "code",
   "execution_count": 2,
   "id": "addbad96",
   "metadata": {
    "_kg_hide-input": true,
    "_kg_hide-output": true,
    "execution": {
     "iopub.execute_input": "2025-02-25T07:48:45.582479Z",
     "iopub.status.busy": "2025-02-25T07:48:45.582127Z",
     "iopub.status.idle": "2025-02-25T07:48:46.655500Z",
     "shell.execute_reply": "2025-02-25T07:48:46.654243Z"
    },
    "papermill": {
     "duration": 1.081207,
     "end_time": "2025-02-25T07:48:46.657168",
     "exception": false,
     "start_time": "2025-02-25T07:48:45.575961",
     "status": "completed"
    },
    "tags": []
   },
   "outputs": [
    {
     "name": "stdout",
     "output_type": "stream",
     "text": [
      "Setup complete! You're ready to start question 0.\n"
     ]
    }
   ],
   "source": [
    "from learntools.core import binder; binder.bind(globals())\n",
    "from learntools.python.ex1 import *\n",
    "print(\"Setup complete! You're ready to start question 0.\")"
   ]
  },
  {
   "cell_type": "markdown",
   "id": "8fef3c78",
   "metadata": {
    "papermill": {
     "duration": 0.005284,
     "end_time": "2025-02-25T07:48:46.668021",
     "exception": false,
     "start_time": "2025-02-25T07:48:46.662737",
     "status": "completed"
    },
    "tags": []
   },
   "source": [
    "# 0.\n",
    "\n",
    "*This is a silly question intended as an introduction to the format we use for hands-on exercises throughout all Kaggle courses.*\n",
    "\n",
    "**What is your favorite color? **\n",
    "\n",
    "To complete this question, create a variable called `color` in the cell below with an appropriate value. The function call `q0.check()` (which we've already provided in the cell below) will check your answer."
   ]
  },
  {
   "cell_type": "code",
   "execution_count": 3,
   "id": "2b4a8f16",
   "metadata": {
    "execution": {
     "iopub.execute_input": "2025-02-25T07:48:46.680204Z",
     "iopub.status.busy": "2025-02-25T07:48:46.679691Z",
     "iopub.status.idle": "2025-02-25T07:48:46.688477Z",
     "shell.execute_reply": "2025-02-25T07:48:46.687484Z"
    },
    "papermill": {
     "duration": 0.016547,
     "end_time": "2025-02-25T07:48:46.689998",
     "exception": false,
     "start_time": "2025-02-25T07:48:46.673451",
     "status": "completed"
    },
    "tags": []
   },
   "outputs": [
    {
     "data": {
      "application/javascript": [
       "parent.postMessage({\"jupyterEvent\": \"custom.exercise_interaction\", \"data\": {\"outcomeType\": 1, \"valueTowardsCompletion\": 0.25, \"interactionType\": 1, \"questionType\": 2, \"questionId\": \"0_ExerciseFormatTutorial\", \"learnToolsVersion\": \"0.3.4\", \"failureMessage\": \"\", \"exceptionClass\": \"\", \"trace\": \"\"}}, \"*\")"
      ],
      "text/plain": [
       "<IPython.core.display.Javascript object>"
      ]
     },
     "metadata": {},
     "output_type": "display_data"
    },
    {
     "data": {
      "text/markdown": [
       "<span style=\"color:#33cc33\">Correct:</span> What?! You got it right without needing a hint or anything? Drats. Well hey, you should still continue to the next step to get some practice asking for a hint and checking solutions. (Even though you obviously don't need any help here.)"
      ],
      "text/plain": [
       "Correct: What?! You got it right without needing a hint or anything? Drats. Well hey, you should still continue to the next step to get some practice asking for a hint and checking solutions. (Even though you obviously don't need any help here.)"
      ]
     },
     "metadata": {},
     "output_type": "display_data"
    }
   ],
   "source": [
    "# create a variable called color with an appropriate value on the line below\n",
    "# (Remember, strings in Python must be enclosed in 'single' or \"double\" quotes)\n",
    "color = \"blue\"\n",
    "\n",
    "# Check your answer\n",
    "q0.check()"
   ]
  },
  {
   "cell_type": "markdown",
   "id": "10433273",
   "metadata": {
    "papermill": {
     "duration": 0.005385,
     "end_time": "2025-02-25T07:48:46.701180",
     "exception": false,
     "start_time": "2025-02-25T07:48:46.695795",
     "status": "completed"
    },
    "tags": []
   },
   "source": [
    "Didn't get the right answer? How do you not even know your own favorite color?!\n",
    "\n",
    "Delete the `#` in the line below to make one of the lines run. You can choose between getting a hint or the full answer by choosing which line to remove the `#` from. \n",
    "\n",
    "Removing the `#` is called uncommenting, because it changes that line from a \"comment\" which Python doesn't run to code, which Python does run."
   ]
  },
  {
   "cell_type": "code",
   "execution_count": 4,
   "id": "d4acfc36",
   "metadata": {
    "execution": {
     "iopub.execute_input": "2025-02-25T07:48:46.713310Z",
     "iopub.status.busy": "2025-02-25T07:48:46.712937Z",
     "iopub.status.idle": "2025-02-25T07:48:46.723340Z",
     "shell.execute_reply": "2025-02-25T07:48:46.722396Z"
    },
    "papermill": {
     "duration": 0.018159,
     "end_time": "2025-02-25T07:48:46.724818",
     "exception": false,
     "start_time": "2025-02-25T07:48:46.706659",
     "status": "completed"
    },
    "tags": []
   },
   "outputs": [
    {
     "data": {
      "application/javascript": [
       "parent.postMessage({\"jupyterEvent\": \"custom.exercise_interaction\", \"data\": {\"interactionType\": 2, \"questionType\": 2, \"questionId\": \"0_ExerciseFormatTutorial\", \"learnToolsVersion\": \"0.3.4\", \"valueTowardsCompletion\": 0.0, \"failureMessage\": \"\", \"exceptionClass\": \"\", \"trace\": \"\", \"outcomeType\": 4}}, \"*\")"
      ],
      "text/plain": [
       "<IPython.core.display.Javascript object>"
      ]
     },
     "metadata": {},
     "output_type": "display_data"
    },
    {
     "data": {
      "text/markdown": [
       "<span style=\"color:#3366cc\">Hint:</span> Your favorite color rhymes with *glue*."
      ],
      "text/plain": [
       "Hint: Your favorite color rhymes with *glue*."
      ]
     },
     "metadata": {},
     "output_type": "display_data"
    },
    {
     "data": {
      "application/javascript": [
       "parent.postMessage({\"jupyterEvent\": \"custom.exercise_interaction\", \"data\": {\"interactionType\": 3, \"questionType\": 2, \"questionId\": \"0_ExerciseFormatTutorial\", \"learnToolsVersion\": \"0.3.4\", \"valueTowardsCompletion\": 0.0, \"failureMessage\": \"\", \"exceptionClass\": \"\", \"trace\": \"\", \"outcomeType\": 4}}, \"*\")"
      ],
      "text/plain": [
       "<IPython.core.display.Javascript object>"
      ]
     },
     "metadata": {},
     "output_type": "display_data"
    },
    {
     "data": {
      "text/markdown": [
       "<span style=\"color:#33cc99\">Solution:</span> \n",
       "```python\n",
       "color = \"blue\"\n",
       "```"
      ],
      "text/plain": [
       "Solution: \n",
       "```python\n",
       "color = \"blue\"\n",
       "```"
      ]
     },
     "metadata": {},
     "output_type": "display_data"
    }
   ],
   "source": [
    "q0.hint()\n",
    "q0.solution()"
   ]
  },
  {
   "cell_type": "markdown",
   "id": "e22fc04a",
   "metadata": {
    "papermill": {
     "duration": 0.005719,
     "end_time": "2025-02-25T07:48:46.736556",
     "exception": false,
     "start_time": "2025-02-25T07:48:46.730837",
     "status": "completed"
    },
    "tags": []
   },
   "source": [
    "The upcoming questions work the same way. The only thing that will change are the question numbers. For the next question, you'll call `q1.check()`, `q1.hint()`, `q1.solution()`, for question 2, you'll call `q2.check()`, and so on."
   ]
  },
  {
   "cell_type": "markdown",
   "id": "3e330348",
   "metadata": {
    "papermill": {
     "duration": 0.005513,
     "end_time": "2025-02-25T07:48:46.747796",
     "exception": false,
     "start_time": "2025-02-25T07:48:46.742283",
     "status": "completed"
    },
    "tags": []
   },
   "source": [
    "<hr/>\n",
    "\n",
    "# 1.\n",
    "\n",
    "Complete the code below. In case it's helpful, here is the table of available arithmetic operations:\n",
    "\n",
    "\n",
    "\n",
    "| Operator     | Name           | Description                                            |\n",
    "|--------------|----------------|--------------------------------------------------------|\n",
    "| ``a + b``    | Addition       | Sum of ``a`` and ``b``                                 |\n",
    "| ``a - b``    | Subtraction    | Difference of ``a`` and ``b``                          |\n",
    "| ``a * b``    | Multiplication | Product of ``a`` and ``b``                             |\n",
    "| ``a / b``    | True division  | Quotient of ``a`` and ``b``                            |\n",
    "| ``a // b``   | Floor division | Quotient of ``a`` and ``b``, removing fractional parts |\n",
    "| ``a % b``    | Modulus        | Integer remainder after division of ``a`` by ``b``     |\n",
    "| ``a ** b``   | Exponentiation | ``a`` raised to the power of ``b``                     |\n",
    "| ``-a``       | Negation       | The negative of ``a``                                  |\n",
    "\n",
    "<span style=\"display:none\"></span>\n"
   ]
  },
  {
   "cell_type": "code",
   "execution_count": 5,
   "id": "1dfa8972",
   "metadata": {
    "execution": {
     "iopub.execute_input": "2025-02-25T07:48:46.760818Z",
     "iopub.status.busy": "2025-02-25T07:48:46.760485Z",
     "iopub.status.idle": "2025-02-25T07:48:46.767966Z",
     "shell.execute_reply": "2025-02-25T07:48:46.767045Z"
    },
    "papermill": {
     "duration": 0.015889,
     "end_time": "2025-02-25T07:48:46.769471",
     "exception": false,
     "start_time": "2025-02-25T07:48:46.753582",
     "status": "completed"
    },
    "tags": []
   },
   "outputs": [
    {
     "data": {
      "application/javascript": [
       "parent.postMessage({\"jupyterEvent\": \"custom.exercise_interaction\", \"data\": {\"outcomeType\": 1, \"valueTowardsCompletion\": 0.25, \"interactionType\": 1, \"questionType\": 1, \"questionId\": \"1_CircleArea\", \"learnToolsVersion\": \"0.3.4\", \"failureMessage\": \"\", \"exceptionClass\": \"\", \"trace\": \"\"}}, \"*\")"
      ],
      "text/plain": [
       "<IPython.core.display.Javascript object>"
      ]
     },
     "metadata": {},
     "output_type": "display_data"
    },
    {
     "data": {
      "text/markdown": [
       "<span style=\"color:#33cc33\">Correct</span>"
      ],
      "text/plain": [
       "Correct"
      ]
     },
     "metadata": {},
     "output_type": "display_data"
    }
   ],
   "source": [
    "pi = 3.14159 # approximate\n",
    "diameter = 3\n",
    "\n",
    "# Create a variable called 'radius' equal to half the diameter\n",
    "radius = diameter / 2\n",
    "\n",
    "# Create a variable called 'area', using the formula for the area of a circle: pi times the radius squared\n",
    "area = pi * radius ** 2\n",
    "\n",
    "# Check your answer\n",
    "q1.check()"
   ]
  },
  {
   "cell_type": "code",
   "execution_count": 6,
   "id": "9942369c",
   "metadata": {
    "execution": {
     "iopub.execute_input": "2025-02-25T07:48:46.783555Z",
     "iopub.status.busy": "2025-02-25T07:48:46.783215Z",
     "iopub.status.idle": "2025-02-25T07:48:46.787024Z",
     "shell.execute_reply": "2025-02-25T07:48:46.786155Z"
    },
    "papermill": {
     "duration": 0.012507,
     "end_time": "2025-02-25T07:48:46.788540",
     "exception": false,
     "start_time": "2025-02-25T07:48:46.776033",
     "status": "completed"
    },
    "tags": []
   },
   "outputs": [],
   "source": [
    "# Uncomment and run the lines below if you need help.\n",
    "#q1.hint()\n",
    "#q1.solution()"
   ]
  },
  {
   "cell_type": "markdown",
   "id": "ebfdf5c7",
   "metadata": {
    "papermill": {
     "duration": 0.005805,
     "end_time": "2025-02-25T07:48:46.801054",
     "exception": false,
     "start_time": "2025-02-25T07:48:46.795249",
     "status": "completed"
    },
    "tags": []
   },
   "source": [
    "<hr/>\n",
    "\n",
    "# 2.\n",
    "\n",
    "Add code to the following cell to swap variables `a` and `b` (so that `a` refers to the object previously referred to by `b` and vice versa)."
   ]
  },
  {
   "cell_type": "code",
   "execution_count": 7,
   "id": "616ca566",
   "metadata": {
    "execution": {
     "iopub.execute_input": "2025-02-25T07:48:46.814452Z",
     "iopub.status.busy": "2025-02-25T07:48:46.814072Z",
     "iopub.status.idle": "2025-02-25T07:48:46.821709Z",
     "shell.execute_reply": "2025-02-25T07:48:46.820854Z"
    },
    "papermill": {
     "duration": 0.01595,
     "end_time": "2025-02-25T07:48:46.823007",
     "exception": false,
     "start_time": "2025-02-25T07:48:46.807057",
     "status": "completed"
    },
    "tags": []
   },
   "outputs": [
    {
     "data": {
      "application/javascript": [
       "parent.postMessage({\"jupyterEvent\": \"custom.exercise_interaction\", \"data\": {\"outcomeType\": 1, \"valueTowardsCompletion\": 0.25, \"interactionType\": 1, \"questionType\": 2, \"questionId\": \"2_VariableSwap\", \"learnToolsVersion\": \"0.3.4\", \"failureMessage\": \"\", \"exceptionClass\": \"\", \"trace\": \"\"}}, \"*\")"
      ],
      "text/plain": [
       "<IPython.core.display.Javascript object>"
      ]
     },
     "metadata": {},
     "output_type": "display_data"
    },
    {
     "data": {
      "text/markdown": [
       "<span style=\"color:#33cc33\">Correct:</span> \n",
       "\n",
       "The most straightforward solution is to use a third variable to temporarily store one of the old values. e.g.:\n",
       "\n",
       "    tmp = a\n",
       "    a = b\n",
       "    b = tmp\n",
       "\n",
       "If you've read lots of Python code, you might have seen the following trick to swap two variables in one line:\n",
       "\n",
       "    a, b = b, a\n",
       "\n",
       "We'll demystify this bit of Python magic later when we talk about *tuples*."
      ],
      "text/plain": [
       "Correct: \n",
       "\n",
       "The most straightforward solution is to use a third variable to temporarily store one of the old values. e.g.:\n",
       "\n",
       "    tmp = a\n",
       "    a = b\n",
       "    b = tmp\n",
       "\n",
       "If you've read lots of Python code, you might have seen the following trick to swap two variables in one line:\n",
       "\n",
       "    a, b = b, a\n",
       "\n",
       "We'll demystify this bit of Python magic later when we talk about *tuples*."
      ]
     },
     "metadata": {},
     "output_type": "display_data"
    }
   ],
   "source": [
    "########### Setup code - don't touch this part ######################\n",
    "# If you're curious, these are examples of lists. We'll talk about \n",
    "# them in depth a few lessons from now. For now, just know that they're\n",
    "# yet another type of Python object, like int or float.\n",
    "a = [1, 2, 3]\n",
    "b = [3, 2, 1]\n",
    "q2.store_original_ids()\n",
    "######################################################################\n",
    "\n",
    "# Your code goes here. Swap the values to which a and b refer.\n",
    "# If you get stuck, you can always uncomment one or both of the lines in\n",
    "# the next cell for a hint, or to peek at the solution.\n",
    "a, b = b, a\n",
    "\n",
    "######################################################################\n",
    "\n",
    "# Check your answer\n",
    "q2.check()"
   ]
  },
  {
   "cell_type": "code",
   "execution_count": 8,
   "id": "742b3a6d",
   "metadata": {
    "execution": {
     "iopub.execute_input": "2025-02-25T07:48:46.837757Z",
     "iopub.status.busy": "2025-02-25T07:48:46.837363Z",
     "iopub.status.idle": "2025-02-25T07:48:46.841063Z",
     "shell.execute_reply": "2025-02-25T07:48:46.840130Z"
    },
    "papermill": {
     "duration": 0.013248,
     "end_time": "2025-02-25T07:48:46.842749",
     "exception": false,
     "start_time": "2025-02-25T07:48:46.829501",
     "status": "completed"
    },
    "tags": []
   },
   "outputs": [],
   "source": [
    "#q2.hint()"
   ]
  },
  {
   "cell_type": "code",
   "execution_count": 9,
   "id": "106e1a4f",
   "metadata": {
    "execution": {
     "iopub.execute_input": "2025-02-25T07:48:46.857413Z",
     "iopub.status.busy": "2025-02-25T07:48:46.857052Z",
     "iopub.status.idle": "2025-02-25T07:48:46.860910Z",
     "shell.execute_reply": "2025-02-25T07:48:46.859937Z"
    },
    "papermill": {
     "duration": 0.012861,
     "end_time": "2025-02-25T07:48:46.862497",
     "exception": false,
     "start_time": "2025-02-25T07:48:46.849636",
     "status": "completed"
    },
    "tags": []
   },
   "outputs": [],
   "source": [
    "#q2.solution()"
   ]
  },
  {
   "cell_type": "markdown",
   "id": "7a5f860b",
   "metadata": {
    "papermill": {
     "duration": 0.006314,
     "end_time": "2025-02-25T07:48:46.875423",
     "exception": false,
     "start_time": "2025-02-25T07:48:46.869109",
     "status": "completed"
    },
    "tags": []
   },
   "source": [
    "<hr/>\n",
    "\n",
    "# 3a.\n",
    "\n",
    "Add parentheses to the following expression so that it evaluates to 1."
   ]
  },
  {
   "cell_type": "code",
   "execution_count": 10,
   "id": "899a8d4b",
   "metadata": {
    "execution": {
     "iopub.execute_input": "2025-02-25T07:48:46.889425Z",
     "iopub.status.busy": "2025-02-25T07:48:46.889052Z",
     "iopub.status.idle": "2025-02-25T07:48:46.894437Z",
     "shell.execute_reply": "2025-02-25T07:48:46.893560Z"
    },
    "papermill": {
     "duration": 0.013997,
     "end_time": "2025-02-25T07:48:46.895811",
     "exception": false,
     "start_time": "2025-02-25T07:48:46.881814",
     "status": "completed"
    },
    "tags": []
   },
   "outputs": [
    {
     "data": {
      "text/plain": [
       "1"
      ]
     },
     "execution_count": 10,
     "metadata": {},
     "output_type": "execute_result"
    }
   ],
   "source": [
    "(5 - 3) // 2"
   ]
  },
  {
   "cell_type": "code",
   "execution_count": 11,
   "id": "35ddd67f",
   "metadata": {
    "execution": {
     "iopub.execute_input": "2025-02-25T07:48:46.910007Z",
     "iopub.status.busy": "2025-02-25T07:48:46.909685Z",
     "iopub.status.idle": "2025-02-25T07:48:46.913239Z",
     "shell.execute_reply": "2025-02-25T07:48:46.912397Z"
    },
    "papermill": {
     "duration": 0.012277,
     "end_time": "2025-02-25T07:48:46.914690",
     "exception": false,
     "start_time": "2025-02-25T07:48:46.902413",
     "status": "completed"
    },
    "tags": []
   },
   "outputs": [],
   "source": [
    "#q3.a.hint()"
   ]
  },
  {
   "cell_type": "code",
   "execution_count": 12,
   "id": "54f896f2",
   "metadata": {
    "execution": {
     "iopub.execute_input": "2025-02-25T07:48:46.929236Z",
     "iopub.status.busy": "2025-02-25T07:48:46.928843Z",
     "iopub.status.idle": "2025-02-25T07:48:46.935402Z",
     "shell.execute_reply": "2025-02-25T07:48:46.934541Z"
    },
    "papermill": {
     "duration": 0.015445,
     "end_time": "2025-02-25T07:48:46.936818",
     "exception": false,
     "start_time": "2025-02-25T07:48:46.921373",
     "status": "completed"
    },
    "tags": []
   },
   "outputs": [
    {
     "data": {
      "application/javascript": [
       "parent.postMessage({\"jupyterEvent\": \"custom.exercise_interaction\", \"data\": {\"interactionType\": 3, \"questionType\": 4, \"questionId\": \"3.1_ArithmeticParensEasy\", \"learnToolsVersion\": \"0.3.4\", \"valueTowardsCompletion\": 0.0, \"failureMessage\": \"\", \"exceptionClass\": \"\", \"trace\": \"\", \"outcomeType\": 4}}, \"*\")"
      ],
      "text/plain": [
       "<IPython.core.display.Javascript object>"
      ]
     },
     "metadata": {},
     "output_type": "display_data"
    },
    {
     "data": {
      "text/markdown": [
       "<span style=\"color:#33cc99\">Solution:</span> \n",
       "```python\n",
       "(5 - 3) // 2\n",
       "```"
      ],
      "text/plain": [
       "Solution: \n",
       "```python\n",
       "(5 - 3) // 2\n",
       "```"
      ]
     },
     "metadata": {},
     "output_type": "display_data"
    }
   ],
   "source": [
    "# Check your answer (Run this code cell to receive credit!)\n",
    "q3.a.solution()"
   ]
  },
  {
   "cell_type": "markdown",
   "id": "0e35c7eb",
   "metadata": {
    "papermill": {
     "duration": 0.006551,
     "end_time": "2025-02-25T07:48:46.950167",
     "exception": false,
     "start_time": "2025-02-25T07:48:46.943616",
     "status": "completed"
    },
    "tags": []
   },
   "source": [
    "# 3b.  <span title=\"A bit spicy\" style=\"color: darkgreen \">🌶️</span>\n",
    "\n",
    "<small>Questions, like this one, marked a spicy pepper are a bit harder.</small>\n",
    "\n",
    "Add parentheses to the following expression so that it evaluates to 0."
   ]
  },
  {
   "cell_type": "code",
   "execution_count": 13,
   "id": "1f128170",
   "metadata": {
    "execution": {
     "iopub.execute_input": "2025-02-25T07:48:46.964958Z",
     "iopub.status.busy": "2025-02-25T07:48:46.964621Z",
     "iopub.status.idle": "2025-02-25T07:48:46.969804Z",
     "shell.execute_reply": "2025-02-25T07:48:46.968841Z"
    },
    "papermill": {
     "duration": 0.014311,
     "end_time": "2025-02-25T07:48:46.971379",
     "exception": false,
     "start_time": "2025-02-25T07:48:46.957068",
     "status": "completed"
    },
    "tags": []
   },
   "outputs": [
    {
     "data": {
      "text/plain": [
       "0"
      ]
     },
     "execution_count": 13,
     "metadata": {},
     "output_type": "execute_result"
    }
   ],
   "source": [
    "8 - 3 * 2 - (1 + 1)"
   ]
  },
  {
   "cell_type": "code",
   "execution_count": 14,
   "id": "e919d12d",
   "metadata": {
    "execution": {
     "iopub.execute_input": "2025-02-25T07:48:46.987113Z",
     "iopub.status.busy": "2025-02-25T07:48:46.986717Z",
     "iopub.status.idle": "2025-02-25T07:48:46.990455Z",
     "shell.execute_reply": "2025-02-25T07:48:46.989525Z"
    },
    "papermill": {
     "duration": 0.013589,
     "end_time": "2025-02-25T07:48:46.992105",
     "exception": false,
     "start_time": "2025-02-25T07:48:46.978516",
     "status": "completed"
    },
    "tags": []
   },
   "outputs": [],
   "source": [
    "#q3.b.hint()"
   ]
  },
  {
   "cell_type": "code",
   "execution_count": 15,
   "id": "0465cb0f",
   "metadata": {
    "execution": {
     "iopub.execute_input": "2025-02-25T07:48:47.008014Z",
     "iopub.status.busy": "2025-02-25T07:48:47.007636Z",
     "iopub.status.idle": "2025-02-25T07:48:47.014960Z",
     "shell.execute_reply": "2025-02-25T07:48:47.013943Z"
    },
    "papermill": {
     "duration": 0.017166,
     "end_time": "2025-02-25T07:48:47.016692",
     "exception": false,
     "start_time": "2025-02-25T07:48:46.999526",
     "status": "completed"
    },
    "tags": []
   },
   "outputs": [
    {
     "data": {
      "application/javascript": [
       "parent.postMessage({\"jupyterEvent\": \"custom.exercise_interaction\", \"data\": {\"interactionType\": 3, \"questionType\": 4, \"questionId\": \"3.2_ArithmeticParensHard\", \"learnToolsVersion\": \"0.3.4\", \"valueTowardsCompletion\": 0.0, \"failureMessage\": \"\", \"exceptionClass\": \"\", \"trace\": \"\", \"outcomeType\": 4}}, \"*\")"
      ],
      "text/plain": [
       "<IPython.core.display.Javascript object>"
      ]
     },
     "metadata": {},
     "output_type": "display_data"
    },
    {
     "data": {
      "text/markdown": [
       "<span style=\"color:#33cc99\">Solution:</span> `(8 - 3) * (2 - (1 + 1))` is one solution. There may be others."
      ],
      "text/plain": [
       "Solution: `(8 - 3) * (2 - (1 + 1))` is one solution. There may be others."
      ]
     },
     "metadata": {},
     "output_type": "display_data"
    }
   ],
   "source": [
    "# Check your answer (Run this code cell to receive credit!)\n",
    "q3.b.solution()"
   ]
  },
  {
   "cell_type": "markdown",
   "id": "846da4f3",
   "metadata": {
    "papermill": {
     "duration": 0.007065,
     "end_time": "2025-02-25T07:48:47.031252",
     "exception": false,
     "start_time": "2025-02-25T07:48:47.024187",
     "status": "completed"
    },
    "tags": []
   },
   "source": [
    "<hr/>\n",
    "\n",
    "# 4. \n",
    "Alice, Bob and Carol have agreed to pool their Halloween candy and split it evenly among themselves.\n",
    "For the sake of their friendship, any candies left over will be smashed. For example, if they collectively\n",
    "bring home 91 candies, they'll take 30 each and smash 1.\n",
    "\n",
    "Write an arithmetic expression below to calculate how many candies they must smash for a given haul."
   ]
  },
  {
   "cell_type": "code",
   "execution_count": 16,
   "id": "6e713dc1",
   "metadata": {
    "execution": {
     "iopub.execute_input": "2025-02-25T07:48:47.046815Z",
     "iopub.status.busy": "2025-02-25T07:48:47.046494Z",
     "iopub.status.idle": "2025-02-25T07:48:47.053790Z",
     "shell.execute_reply": "2025-02-25T07:48:47.052864Z"
    },
    "papermill": {
     "duration": 0.016853,
     "end_time": "2025-02-25T07:48:47.055230",
     "exception": false,
     "start_time": "2025-02-25T07:48:47.038377",
     "status": "completed"
    },
    "tags": []
   },
   "outputs": [
    {
     "data": {
      "application/javascript": [
       "parent.postMessage({\"jupyterEvent\": \"custom.exercise_interaction\", \"data\": {\"outcomeType\": 1, \"valueTowardsCompletion\": 0.25, \"interactionType\": 1, \"questionType\": 1, \"questionId\": \"4_CandySplitting\", \"learnToolsVersion\": \"0.3.4\", \"failureMessage\": \"\", \"exceptionClass\": \"\", \"trace\": \"\"}}, \"*\")"
      ],
      "text/plain": [
       "<IPython.core.display.Javascript object>"
      ]
     },
     "metadata": {},
     "output_type": "display_data"
    },
    {
     "data": {
      "text/markdown": [
       "<span style=\"color:#33cc33\">Correct</span>"
      ],
      "text/plain": [
       "Correct"
      ]
     },
     "metadata": {},
     "output_type": "display_data"
    }
   ],
   "source": [
    "# Variables representing the number of candies collected by alice, bob, and carol\n",
    "alice_candies = 121\n",
    "bob_candies = 77\n",
    "carol_candies = 109\n",
    "\n",
    "# Your code goes here! Replace the right-hand side of this assignment with an expression\n",
    "# involving alice_candies, bob_candies, and carol_candies\n",
    "to_smash = (alice_candies + bob_candies + carol_candies) % 3\n",
    "\n",
    "# Check your answer\n",
    "q4.check()"
   ]
  },
  {
   "cell_type": "code",
   "execution_count": 17,
   "id": "08c9a2f1",
   "metadata": {
    "execution": {
     "iopub.execute_input": "2025-02-25T07:48:47.071375Z",
     "iopub.status.busy": "2025-02-25T07:48:47.070990Z",
     "iopub.status.idle": "2025-02-25T07:48:47.080618Z",
     "shell.execute_reply": "2025-02-25T07:48:47.079580Z"
    },
    "papermill": {
     "duration": 0.019389,
     "end_time": "2025-02-25T07:48:47.082099",
     "exception": false,
     "start_time": "2025-02-25T07:48:47.062710",
     "status": "completed"
    },
    "tags": []
   },
   "outputs": [
    {
     "data": {
      "application/javascript": [
       "parent.postMessage({\"jupyterEvent\": \"custom.exercise_interaction\", \"data\": {\"interactionType\": 2, \"questionType\": 1, \"questionId\": \"4_CandySplitting\", \"learnToolsVersion\": \"0.3.4\", \"valueTowardsCompletion\": 0.0, \"failureMessage\": \"\", \"exceptionClass\": \"\", \"trace\": \"\", \"outcomeType\": 4}}, \"*\")"
      ],
      "text/plain": [
       "<IPython.core.display.Javascript object>"
      ]
     },
     "metadata": {},
     "output_type": "display_data"
    },
    {
     "data": {
      "text/markdown": [
       "<span style=\"color:#3366cc\">Hint 1:</span> You'll probably want to use the modulo operator, `%`.\n",
       "(For another hint, call `.hint(2)`)"
      ],
      "text/plain": [
       "Hint 1: You'll probably want to use the modulo operator, `%`.\n",
       "(For another hint, call `.hint(2)`)"
      ]
     },
     "metadata": {},
     "output_type": "display_data"
    },
    {
     "data": {
      "application/javascript": [
       "parent.postMessage({\"jupyterEvent\": \"custom.exercise_interaction\", \"data\": {\"interactionType\": 3, \"questionType\": 1, \"questionId\": \"4_CandySplitting\", \"learnToolsVersion\": \"0.3.4\", \"valueTowardsCompletion\": 0.0, \"failureMessage\": \"\", \"exceptionClass\": \"\", \"trace\": \"\", \"outcomeType\": 4}}, \"*\")"
      ],
      "text/plain": [
       "<IPython.core.display.Javascript object>"
      ]
     },
     "metadata": {},
     "output_type": "display_data"
    },
    {
     "data": {
      "text/markdown": [
       "<span style=\"color:#33cc99\">Solution:</span> \n",
       "```python\n",
       "(alice_candies + bob_candies + carol_candies) % 3\n",
       "```"
      ],
      "text/plain": [
       "Solution: \n",
       "```python\n",
       "(alice_candies + bob_candies + carol_candies) % 3\n",
       "```"
      ]
     },
     "metadata": {},
     "output_type": "display_data"
    }
   ],
   "source": [
    "q4.hint()\n",
    "q4.solution()"
   ]
  },
  {
   "cell_type": "markdown",
   "id": "3a84412f",
   "metadata": {
    "papermill": {
     "duration": 0.007665,
     "end_time": "2025-02-25T07:48:47.097704",
     "exception": false,
     "start_time": "2025-02-25T07:48:47.090039",
     "status": "completed"
    },
    "tags": []
   },
   "source": [
    "# Keep Going\n",
    "\n",
    "Next up, you'll **[learn to write new functions and understand functions others write](https://www.kaggle.com/colinmorris/functions-and-getting-help)**. This will make you at least 10 times more productive as a Python programmer. "
   ]
  },
  {
   "cell_type": "markdown",
   "id": "1d3fb879",
   "metadata": {
    "papermill": {
     "duration": 0.007692,
     "end_time": "2025-02-25T07:48:47.114323",
     "exception": false,
     "start_time": "2025-02-25T07:48:47.106631",
     "status": "completed"
    },
    "tags": []
   },
   "source": [
    "---\n",
    "\n",
    "\n",
    "\n",
    "\n",
    "*Have questions or comments? Visit the [course discussion forum](https://www.kaggle.com/learn/python/discussion) to chat with other learners.*"
   ]
  }
 ],
 "metadata": {
  "kaggle": {
   "accelerator": "none",
   "dataSources": [],
   "isGpuEnabled": false,
   "isInternetEnabled": false,
   "language": "python",
   "sourceType": "notebook"
  },
  "kernelspec": {
   "display_name": "Python 3",
   "language": "python",
   "name": "python3"
  },
  "language_info": {
   "codemirror_mode": {
    "name": "ipython",
    "version": 3
   },
   "file_extension": ".py",
   "mimetype": "text/x-python",
   "name": "python",
   "nbconvert_exporter": "python",
   "pygments_lexer": "ipython3",
   "version": "3.10.12"
  },
  "learntools_metadata": {
   "lesson_index": 0,
   "type": "exercise"
  },
  "papermill": {
   "default_parameters": {},
   "duration": 4.914839,
   "end_time": "2025-02-25T07:48:47.640740",
   "environment_variables": {},
   "exception": null,
   "input_path": "__notebook__.ipynb",
   "output_path": "__notebook__.ipynb",
   "parameters": {},
   "start_time": "2025-02-25T07:48:42.725901",
   "version": "2.6.0"
  }
 },
 "nbformat": 4,
 "nbformat_minor": 5
}
