{
 "cells": [
  {
   "cell_type": "markdown",
   "id": "24d7ea7f",
   "metadata": {
    "papermill": {
     "duration": 0.003911,
     "end_time": "2025-02-28T08:27:39.269517",
     "exception": false,
     "start_time": "2025-02-28T08:27:39.265606",
     "status": "completed"
    },
    "tags": []
   },
   "source": [
    "**This notebook is an exercise in the [Python](https://www.kaggle.com/learn/python) course.  You can reference the tutorial at [this link](https://www.kaggle.com/colinmorris/lists).**\n",
    "\n",
    "---\n"
   ]
  },
  {
   "cell_type": "markdown",
   "id": "19d8461c",
   "metadata": {
    "papermill": {
     "duration": 0.00315,
     "end_time": "2025-02-28T08:27:39.276806",
     "exception": false,
     "start_time": "2025-02-28T08:27:39.273656",
     "status": "completed"
    },
    "tags": []
   },
   "source": [
    "Things get more interesting with lists. You'll apply your new knowledge to solve the questions below. Remember to run the following cell first."
   ]
  },
  {
   "cell_type": "code",
   "execution_count": 1,
   "id": "ba6f8a04",
   "metadata": {
    "execution": {
     "iopub.execute_input": "2025-02-28T08:27:39.283954Z",
     "iopub.status.busy": "2025-02-28T08:27:39.283632Z",
     "iopub.status.idle": "2025-02-28T08:27:40.523839Z",
     "shell.execute_reply": "2025-02-28T08:27:40.522952Z"
    },
    "papermill": {
     "duration": 1.245433,
     "end_time": "2025-02-28T08:27:40.525342",
     "exception": false,
     "start_time": "2025-02-28T08:27:39.279909",
     "status": "completed"
    },
    "tags": []
   },
   "outputs": [
    {
     "name": "stdout",
     "output_type": "stream",
     "text": [
      "Setup complete.\n"
     ]
    }
   ],
   "source": [
    "from learntools.core import binder; binder.bind(globals())\n",
    "from learntools.python.ex4 import *\n",
    "print('Setup complete.')"
   ]
  },
  {
   "cell_type": "markdown",
   "id": "ee90ecee",
   "metadata": {
    "papermill": {
     "duration": 0.002788,
     "end_time": "2025-02-28T08:27:40.531487",
     "exception": false,
     "start_time": "2025-02-28T08:27:40.528699",
     "status": "completed"
    },
    "tags": []
   },
   "source": [
    "# 1.\n",
    "\n",
    "Complete the function below according to its docstring."
   ]
  },
  {
   "cell_type": "code",
   "execution_count": 2,
   "id": "3d393642",
   "metadata": {
    "execution": {
     "iopub.execute_input": "2025-02-28T08:27:40.538464Z",
     "iopub.status.busy": "2025-02-28T08:27:40.537964Z",
     "iopub.status.idle": "2025-02-28T08:27:40.546188Z",
     "shell.execute_reply": "2025-02-28T08:27:40.544883Z"
    },
    "papermill": {
     "duration": 0.013657,
     "end_time": "2025-02-28T08:27:40.547943",
     "exception": false,
     "start_time": "2025-02-28T08:27:40.534286",
     "status": "completed"
    },
    "tags": []
   },
   "outputs": [
    {
     "data": {
      "application/javascript": [
       "parent.postMessage({\"jupyterEvent\": \"custom.exercise_interaction\", \"data\": {\"outcomeType\": 1, \"valueTowardsCompletion\": 0.2, \"interactionType\": 1, \"questionType\": 2, \"questionId\": \"1_SelectSecondItem\", \"learnToolsVersion\": \"0.3.4\", \"failureMessage\": \"\", \"exceptionClass\": \"\", \"trace\": \"\"}}, \"*\")"
      ],
      "text/plain": [
       "<IPython.core.display.Javascript object>"
      ]
     },
     "metadata": {},
     "output_type": "display_data"
    },
    {
     "data": {
      "text/markdown": [
       "<span style=\"color:#33cc33\">Correct</span>"
      ],
      "text/plain": [
       "Correct"
      ]
     },
     "metadata": {},
     "output_type": "display_data"
    }
   ],
   "source": [
    "def select_second(L):\n",
    "    \"\"\"Return the second element of the given list. If the list has no second\n",
    "    element, return None.\n",
    "    \"\"\"\n",
    "    if len(L) > 1:\n",
    "        return L[1]\n",
    "    return None\n",
    "        \n",
    "\n",
    "# Check your answer\n",
    "q1.check()"
   ]
  },
  {
   "cell_type": "code",
   "execution_count": 3,
   "id": "4c4d7b89",
   "metadata": {
    "execution": {
     "iopub.execute_input": "2025-02-28T08:27:40.555780Z",
     "iopub.status.busy": "2025-02-28T08:27:40.555441Z",
     "iopub.status.idle": "2025-02-28T08:27:40.563180Z",
     "shell.execute_reply": "2025-02-28T08:27:40.562452Z"
    },
    "papermill": {
     "duration": 0.013319,
     "end_time": "2025-02-28T08:27:40.564890",
     "exception": false,
     "start_time": "2025-02-28T08:27:40.551571",
     "status": "completed"
    },
    "tags": []
   },
   "outputs": [
    {
     "data": {
      "application/javascript": [
       "parent.postMessage({\"jupyterEvent\": \"custom.exercise_interaction\", \"data\": {\"interactionType\": 2, \"questionType\": 2, \"questionId\": \"1_SelectSecondItem\", \"learnToolsVersion\": \"0.3.4\", \"valueTowardsCompletion\": 0.0, \"failureMessage\": \"\", \"exceptionClass\": \"\", \"trace\": \"\", \"outcomeType\": 4}}, \"*\")"
      ],
      "text/plain": [
       "<IPython.core.display.Javascript object>"
      ]
     },
     "metadata": {},
     "output_type": "display_data"
    },
    {
     "data": {
      "text/markdown": [
       "<span style=\"color:#3366cc\">Hint:</span> Python starts counting at 0. So the second item isn't indexed with a 2"
      ],
      "text/plain": [
       "Hint: Python starts counting at 0. So the second item isn't indexed with a 2"
      ]
     },
     "metadata": {},
     "output_type": "display_data"
    },
    {
     "data": {
      "application/javascript": [
       "parent.postMessage({\"jupyterEvent\": \"custom.exercise_interaction\", \"data\": {\"interactionType\": 3, \"questionType\": 2, \"questionId\": \"1_SelectSecondItem\", \"learnToolsVersion\": \"0.3.4\", \"valueTowardsCompletion\": 0.0, \"failureMessage\": \"\", \"exceptionClass\": \"\", \"trace\": \"\", \"outcomeType\": 4}}, \"*\")"
      ],
      "text/plain": [
       "<IPython.core.display.Javascript object>"
      ]
     },
     "metadata": {},
     "output_type": "display_data"
    },
    {
     "data": {
      "text/markdown": [
       "<span style=\"color:#33cc99\">Solution:</span> \n",
       "```python\n",
       "def select_second(L):\n",
       "    if len(L) < 2:\n",
       "        return None\n",
       "    return L[1]\n",
       "```"
      ],
      "text/plain": [
       "Solution: \n",
       "```python\n",
       "def select_second(L):\n",
       "    if len(L) < 2:\n",
       "        return None\n",
       "    return L[1]\n",
       "```"
      ]
     },
     "metadata": {},
     "output_type": "display_data"
    }
   ],
   "source": [
    "q1.hint()\n",
    "q1.solution()"
   ]
  },
  {
   "cell_type": "markdown",
   "id": "abb68534",
   "metadata": {
    "papermill": {
     "duration": 0.003248,
     "end_time": "2025-02-28T08:27:40.572180",
     "exception": false,
     "start_time": "2025-02-28T08:27:40.568932",
     "status": "completed"
    },
    "tags": []
   },
   "source": [
    "# 2.\n",
    "\n",
    "You are analyzing sports teams.  Members of each team are stored in a list. The Coach is the first name in the list, the captain is the second name in the list, and other players are listed after that. \n",
    "These lists are stored in another list, which starts with the best team and proceeds through the list to the worst team last.  Complete the function below to select the **captain** of the worst team."
   ]
  },
  {
   "cell_type": "code",
   "execution_count": 4,
   "id": "e9a28058",
   "metadata": {
    "execution": {
     "iopub.execute_input": "2025-02-28T08:27:40.580268Z",
     "iopub.status.busy": "2025-02-28T08:27:40.579919Z",
     "iopub.status.idle": "2025-02-28T08:27:40.588739Z",
     "shell.execute_reply": "2025-02-28T08:27:40.587015Z"
    },
    "papermill": {
     "duration": 0.015062,
     "end_time": "2025-02-28T08:27:40.590679",
     "exception": false,
     "start_time": "2025-02-28T08:27:40.575617",
     "status": "completed"
    },
    "tags": []
   },
   "outputs": [
    {
     "data": {
      "application/javascript": [
       "parent.postMessage({\"jupyterEvent\": \"custom.exercise_interaction\", \"data\": {\"outcomeType\": 1, \"valueTowardsCompletion\": 0.2, \"interactionType\": 1, \"questionType\": 2, \"questionId\": \"2_LosingTeamCaptain\", \"learnToolsVersion\": \"0.3.4\", \"failureMessage\": \"\", \"exceptionClass\": \"\", \"trace\": \"\"}}, \"*\")"
      ],
      "text/plain": [
       "<IPython.core.display.Javascript object>"
      ]
     },
     "metadata": {},
     "output_type": "display_data"
    },
    {
     "data": {
      "text/markdown": [
       "<span style=\"color:#33cc33\">Correct</span>"
      ],
      "text/plain": [
       "Correct"
      ]
     },
     "metadata": {},
     "output_type": "display_data"
    }
   ],
   "source": [
    "def losing_team_captain(teams):\n",
    "    \"\"\"Given a list of teams, where each team is a list of names, return the 2nd player (captain)\n",
    "    from the last listed team\n",
    "    \"\"\"\n",
    "    return select_second(teams[-1])\n",
    "\n",
    "# Check your answer\n",
    "q2.check()"
   ]
  },
  {
   "cell_type": "code",
   "execution_count": 5,
   "id": "7d764979",
   "metadata": {
    "execution": {
     "iopub.execute_input": "2025-02-28T08:27:40.599854Z",
     "iopub.status.busy": "2025-02-28T08:27:40.599500Z",
     "iopub.status.idle": "2025-02-28T08:27:40.603245Z",
     "shell.execute_reply": "2025-02-28T08:27:40.602386Z"
    },
    "papermill": {
     "duration": 0.009674,
     "end_time": "2025-02-28T08:27:40.604613",
     "exception": false,
     "start_time": "2025-02-28T08:27:40.594939",
     "status": "completed"
    },
    "tags": []
   },
   "outputs": [],
   "source": [
    "#q2.hint()\n",
    "#q2.solution()"
   ]
  },
  {
   "cell_type": "markdown",
   "id": "f30ed353",
   "metadata": {
    "papermill": {
     "duration": 0.003251,
     "end_time": "2025-02-28T08:27:40.611940",
     "exception": false,
     "start_time": "2025-02-28T08:27:40.608689",
     "status": "completed"
    },
    "tags": []
   },
   "source": [
    "# 3.\n",
    "\n",
    "The next iteration of Mario Kart will feature an extra-infuriating new item, the *Purple Shell*. When used, it warps the last place racer into first place and the first place racer into last place. Complete the function below to implement the Purple Shell's effect."
   ]
  },
  {
   "cell_type": "code",
   "execution_count": 6,
   "id": "90a7b7f1",
   "metadata": {
    "execution": {
     "iopub.execute_input": "2025-02-28T08:27:40.620550Z",
     "iopub.status.busy": "2025-02-28T08:27:40.620232Z",
     "iopub.status.idle": "2025-02-28T08:27:40.626329Z",
     "shell.execute_reply": "2025-02-28T08:27:40.625716Z"
    },
    "papermill": {
     "duration": 0.011937,
     "end_time": "2025-02-28T08:27:40.627554",
     "exception": false,
     "start_time": "2025-02-28T08:27:40.615617",
     "status": "completed"
    },
    "tags": []
   },
   "outputs": [
    {
     "data": {
      "application/javascript": [
       "parent.postMessage({\"jupyterEvent\": \"custom.exercise_interaction\", \"data\": {\"outcomeType\": 1, \"valueTowardsCompletion\": 0.2, \"interactionType\": 1, \"questionType\": 2, \"questionId\": \"3_PurpleShell\", \"learnToolsVersion\": \"0.3.4\", \"failureMessage\": \"\", \"exceptionClass\": \"\", \"trace\": \"\"}}, \"*\")"
      ],
      "text/plain": [
       "<IPython.core.display.Javascript object>"
      ]
     },
     "metadata": {},
     "output_type": "display_data"
    },
    {
     "data": {
      "text/markdown": [
       "<span style=\"color:#33cc33\">Correct</span>"
      ],
      "text/plain": [
       "Correct"
      ]
     },
     "metadata": {},
     "output_type": "display_data"
    }
   ],
   "source": [
    "def purple_shell(racers):\n",
    "    \"\"\"Given a list of racers, set the first place racer (at the front of the list) to last\n",
    "    place and vice versa.\n",
    "    \n",
    "    >>> r = [\"Mario\", \"Bowser\", \"Luigi\"]\n",
    "    >>> purple_shell(r)\n",
    "    >>> r\n",
    "    [\"Luigi\", \"Bowser\", \"Mario\"]\n",
    "    \"\"\"\n",
    "    racers[0], racers[-1] = racers[-1], racers[0]\n",
    "\n",
    "# Check your answer\n",
    "q3.check()"
   ]
  },
  {
   "cell_type": "code",
   "execution_count": 7,
   "id": "dd463367",
   "metadata": {
    "execution": {
     "iopub.execute_input": "2025-02-28T08:27:40.636557Z",
     "iopub.status.busy": "2025-02-28T08:27:40.636220Z",
     "iopub.status.idle": "2025-02-28T08:27:40.639931Z",
     "shell.execute_reply": "2025-02-28T08:27:40.638772Z"
    },
    "papermill": {
     "duration": 0.009662,
     "end_time": "2025-02-28T08:27:40.641263",
     "exception": false,
     "start_time": "2025-02-28T08:27:40.631601",
     "status": "completed"
    },
    "tags": []
   },
   "outputs": [],
   "source": [
    "#q3.hint()\n",
    "#q3.solution()"
   ]
  },
  {
   "cell_type": "markdown",
   "id": "41a4c661",
   "metadata": {
    "papermill": {
     "duration": 0.003408,
     "end_time": "2025-02-28T08:27:40.648891",
     "exception": false,
     "start_time": "2025-02-28T08:27:40.645483",
     "status": "completed"
    },
    "tags": []
   },
   "source": [
    "# 4.\n",
    "\n",
    "What are the lengths of the following lists? Fill in the variable `lengths` with your predictions. (Try to make a prediction for each list *without* just calling `len()` on it.)"
   ]
  },
  {
   "cell_type": "code",
   "execution_count": 8,
   "id": "584127f6",
   "metadata": {
    "execution": {
     "iopub.execute_input": "2025-02-28T08:27:40.657077Z",
     "iopub.status.busy": "2025-02-28T08:27:40.656805Z",
     "iopub.status.idle": "2025-02-28T08:27:40.662595Z",
     "shell.execute_reply": "2025-02-28T08:27:40.661894Z"
    },
    "papermill": {
     "duration": 0.011018,
     "end_time": "2025-02-28T08:27:40.663631",
     "exception": false,
     "start_time": "2025-02-28T08:27:40.652613",
     "status": "completed"
    },
    "tags": []
   },
   "outputs": [
    {
     "data": {
      "application/javascript": [
       "parent.postMessage({\"jupyterEvent\": \"custom.exercise_interaction\", \"data\": {\"outcomeType\": 1, \"valueTowardsCompletion\": 0.2, \"interactionType\": 1, \"questionType\": 1, \"questionId\": \"4_UnderstandLen\", \"learnToolsVersion\": \"0.3.4\", \"failureMessage\": \"\", \"exceptionClass\": \"\", \"trace\": \"\"}}, \"*\")"
      ],
      "text/plain": [
       "<IPython.core.display.Javascript object>"
      ]
     },
     "metadata": {},
     "output_type": "display_data"
    },
    {
     "data": {
      "text/markdown": [
       "<span style=\"color:#33cc33\">Correct:</span> \n",
       "\n",
       "\n",
       "- a: There are three items in this list. Nothing tricky yet.\n",
       "- b: The list `[2, 3]` counts as a single item. It has one item before it. So we have 2 items in the list\n",
       "- c: The empty list has 0 items\n",
       "- d: The expression is the same as the list `[2, 3]`, which has length 2."
      ],
      "text/plain": [
       "Correct: \n",
       "\n",
       "\n",
       "- a: There are three items in this list. Nothing tricky yet.\n",
       "- b: The list `[2, 3]` counts as a single item. It has one item before it. So we have 2 items in the list\n",
       "- c: The empty list has 0 items\n",
       "- d: The expression is the same as the list `[2, 3]`, which has length 2."
      ]
     },
     "metadata": {},
     "output_type": "display_data"
    }
   ],
   "source": [
    "a = [1, 2, 3]\n",
    "b = [1, [2, 3]]\n",
    "c = []\n",
    "d = [1, 2, 3][1:]\n",
    "\n",
    "# Put your predictions in the list below. Lengths should contain 4 numbers, the\n",
    "# first being the length of a, the second being the length of b and so on.\n",
    "lengths = [3, 2, 0, 2]\n",
    "\n",
    "# Check your answer\n",
    "q4.check()"
   ]
  },
  {
   "cell_type": "code",
   "execution_count": 9,
   "id": "a572111b",
   "metadata": {
    "execution": {
     "iopub.execute_input": "2025-02-28T08:27:40.673047Z",
     "iopub.status.busy": "2025-02-28T08:27:40.672653Z",
     "iopub.status.idle": "2025-02-28T08:27:40.676175Z",
     "shell.execute_reply": "2025-02-28T08:27:40.675236Z"
    },
    "papermill": {
     "duration": 0.01001,
     "end_time": "2025-02-28T08:27:40.677779",
     "exception": false,
     "start_time": "2025-02-28T08:27:40.667769",
     "status": "completed"
    },
    "tags": []
   },
   "outputs": [],
   "source": [
    "# line below provides some explanation\n",
    "#q4.solution()"
   ]
  },
  {
   "cell_type": "markdown",
   "id": "9b27a2fb",
   "metadata": {
    "papermill": {
     "duration": 0.003567,
     "end_time": "2025-02-28T08:27:40.685700",
     "exception": false,
     "start_time": "2025-02-28T08:27:40.682133",
     "status": "completed"
    },
    "tags": []
   },
   "source": [
    "# 5. <span title=\"A bit spicy\" style=\"color: darkgreen \">🌶️</span>\n",
    "\n",
    "We're using lists to record people who attended our party and what order they arrived in. For example, the following list represents a party with 7 guests, in which Adela showed up first and Ford was the last to arrive:\n",
    "\n",
    "    party_attendees = ['Adela', 'Fleda', 'Owen', 'May', 'Mona', 'Gilbert', 'Ford']\n",
    "\n",
    "A guest is considered 'fashionably late' if they arrived after at least half of the party's guests. However, they must not be the very last guest (that's taking it too far). In the above example, Mona and Gilbert are the only guests who were fashionably late.\n",
    "\n",
    "Complete the function below which takes a list of party attendees as well as a person, and tells us whether that person is fashionably late."
   ]
  },
  {
   "cell_type": "code",
   "execution_count": 10,
   "id": "6b855ada",
   "metadata": {
    "execution": {
     "iopub.execute_input": "2025-02-28T08:27:40.694250Z",
     "iopub.status.busy": "2025-02-28T08:27:40.693946Z",
     "iopub.status.idle": "2025-02-28T08:27:40.701148Z",
     "shell.execute_reply": "2025-02-28T08:27:40.700038Z"
    },
    "papermill": {
     "duration": 0.013489,
     "end_time": "2025-02-28T08:27:40.702930",
     "exception": false,
     "start_time": "2025-02-28T08:27:40.689441",
     "status": "completed"
    },
    "tags": []
   },
   "outputs": [
    {
     "data": {
      "application/javascript": [
       "parent.postMessage({\"jupyterEvent\": \"custom.exercise_interaction\", \"data\": {\"outcomeType\": 1, \"valueTowardsCompletion\": 0.2, \"interactionType\": 1, \"questionType\": 2, \"questionId\": \"5_FashionablyLate\", \"learnToolsVersion\": \"0.3.4\", \"failureMessage\": \"\", \"exceptionClass\": \"\", \"trace\": \"\"}}, \"*\")"
      ],
      "text/plain": [
       "<IPython.core.display.Javascript object>"
      ]
     },
     "metadata": {},
     "output_type": "display_data"
    },
    {
     "data": {
      "text/markdown": [
       "<span style=\"color:#33cc33\">Correct</span>"
      ],
      "text/plain": [
       "Correct"
      ]
     },
     "metadata": {},
     "output_type": "display_data"
    }
   ],
   "source": [
    "def fashionably_late(arrivals, name):\n",
    "    \"\"\"Given an ordered list of arrivals to the party and a name, return whether the guest with that\n",
    "    name was fashionably late.\n",
    "    \"\"\"\n",
    "    length = len(arrivals)\n",
    "    idx = arrivals.index(name) + 1\n",
    "    if idx > (length + 1) // 2 and idx != length:\n",
    "        return True\n",
    "    return False\n",
    "\n",
    "# Check your answer\n",
    "q5.check()"
   ]
  },
  {
   "cell_type": "code",
   "execution_count": 11,
   "id": "15c14761",
   "metadata": {
    "execution": {
     "iopub.execute_input": "2025-02-28T08:27:40.713179Z",
     "iopub.status.busy": "2025-02-28T08:27:40.712825Z",
     "iopub.status.idle": "2025-02-28T08:27:40.716444Z",
     "shell.execute_reply": "2025-02-28T08:27:40.715511Z"
    },
    "papermill": {
     "duration": 0.01015,
     "end_time": "2025-02-28T08:27:40.717980",
     "exception": false,
     "start_time": "2025-02-28T08:27:40.707830",
     "status": "completed"
    },
    "tags": []
   },
   "outputs": [],
   "source": [
    "#q5.hint()\n",
    "#q5.solution()"
   ]
  },
  {
   "cell_type": "markdown",
   "id": "7f00d1b6",
   "metadata": {
    "papermill": {
     "duration": 0.003855,
     "end_time": "2025-02-28T08:27:40.726443",
     "exception": false,
     "start_time": "2025-02-28T08:27:40.722588",
     "status": "completed"
    },
    "tags": []
   },
   "source": [
    "# Keep Going\n",
    "\n",
    "That's it for lists and tuples! Now you have the baseline knowledge to **[learn about loops](https://www.kaggle.com/colinmorris/loops-and-list-comprehensions)**, which is where lists and tuples get really interesting. "
   ]
  },
  {
   "cell_type": "markdown",
   "id": "45e01c9c",
   "metadata": {
    "papermill": {
     "duration": 0.003826,
     "end_time": "2025-02-28T08:27:40.734327",
     "exception": false,
     "start_time": "2025-02-28T08:27:40.730501",
     "status": "completed"
    },
    "tags": []
   },
   "source": [
    "---\n",
    "\n",
    "\n",
    "\n",
    "\n",
    "*Have questions or comments? Visit the [course discussion forum](https://www.kaggle.com/learn/python/discussion) to chat with other learners.*"
   ]
  }
 ],
 "metadata": {
  "kaggle": {
   "accelerator": "none",
   "dataSources": [],
   "isGpuEnabled": false,
   "isInternetEnabled": false,
   "language": "python",
   "sourceType": "notebook"
  },
  "kernelspec": {
   "display_name": "Python 3",
   "language": "python",
   "name": "python3"
  },
  "language_info": {
   "codemirror_mode": {
    "name": "ipython",
    "version": 3
   },
   "file_extension": ".py",
   "mimetype": "text/x-python",
   "name": "python",
   "nbconvert_exporter": "python",
   "pygments_lexer": "ipython3",
   "version": "3.10.12"
  },
  "learntools_metadata": {
   "lesson_index": 3,
   "type": "exercise"
  },
  "papermill": {
   "default_parameters": {},
   "duration": 4.52094,
   "end_time": "2025-02-28T08:27:41.357373",
   "environment_variables": {},
   "exception": null,
   "input_path": "__notebook__.ipynb",
   "output_path": "__notebook__.ipynb",
   "parameters": {},
   "start_time": "2025-02-28T08:27:36.836433",
   "version": "2.6.0"
  }
 },
 "nbformat": 4,
 "nbformat_minor": 5
}
