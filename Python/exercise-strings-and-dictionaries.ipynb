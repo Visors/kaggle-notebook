{
 "cells": [
  {
   "cell_type": "markdown",
   "id": "615cab6f",
   "metadata": {
    "papermill": {
     "duration": 0.00507,
     "end_time": "2025-02-28T09:49:28.157466",
     "exception": false,
     "start_time": "2025-02-28T09:49:28.152396",
     "status": "completed"
    },
    "tags": []
   },
   "source": [
    "**This notebook is an exercise in the [Python](https://www.kaggle.com/learn/python) course.  You can reference the tutorial at [this link](https://www.kaggle.com/colinmorris/strings-and-dictionaries).**\n",
    "\n",
    "---\n"
   ]
  },
  {
   "cell_type": "markdown",
   "id": "ee9f949b",
   "metadata": {
    "papermill": {
     "duration": 0.004088,
     "end_time": "2025-02-28T09:49:28.166178",
     "exception": false,
     "start_time": "2025-02-28T09:49:28.162090",
     "status": "completed"
    },
    "tags": []
   },
   "source": [
    "You are almost done with the course. Nice job!\n",
    "\n",
    "We have a couple more interesting problems for you before you go. \n",
    "\n",
    "As always, run the setup code below before working on the questions."
   ]
  },
  {
   "cell_type": "code",
   "execution_count": 1,
   "id": "1361205b",
   "metadata": {
    "execution": {
     "iopub.execute_input": "2025-02-28T09:49:28.176428Z",
     "iopub.status.busy": "2025-02-28T09:49:28.176032Z",
     "iopub.status.idle": "2025-02-28T09:49:29.122253Z",
     "shell.execute_reply": "2025-02-28T09:49:29.120905Z"
    },
    "papermill": {
     "duration": 0.953733,
     "end_time": "2025-02-28T09:49:29.124376",
     "exception": false,
     "start_time": "2025-02-28T09:49:28.170643",
     "status": "completed"
    },
    "tags": []
   },
   "outputs": [
    {
     "name": "stdout",
     "output_type": "stream",
     "text": [
      "Setup complete.\n"
     ]
    }
   ],
   "source": [
    "from learntools.core import binder; binder.bind(globals())\n",
    "from learntools.python.ex6 import *\n",
    "print('Setup complete.')"
   ]
  },
  {
   "cell_type": "markdown",
   "id": "2f52b5c3",
   "metadata": {
    "papermill": {
     "duration": 0.004432,
     "end_time": "2025-02-28T09:49:29.133736",
     "exception": false,
     "start_time": "2025-02-28T09:49:29.129304",
     "status": "completed"
    },
    "tags": []
   },
   "source": [
    "Let's start with a string lightning round to warm up. What are the lengths of the strings below?\n",
    "\n",
    "For each of the five strings below, predict what `len()` would return when passed that string. Use the variable `length` to record your answer, then run the cell to check whether you were right.  \n",
    "\n",
    "# 0a."
   ]
  },
  {
   "cell_type": "code",
   "execution_count": 2,
   "id": "144a3871",
   "metadata": {
    "execution": {
     "iopub.execute_input": "2025-02-28T09:49:29.144270Z",
     "iopub.status.busy": "2025-02-28T09:49:29.143638Z",
     "iopub.status.idle": "2025-02-28T09:49:29.151935Z",
     "shell.execute_reply": "2025-02-28T09:49:29.151072Z"
    },
    "papermill": {
     "duration": 0.015183,
     "end_time": "2025-02-28T09:49:29.153485",
     "exception": false,
     "start_time": "2025-02-28T09:49:29.138302",
     "status": "completed"
    },
    "tags": []
   },
   "outputs": [
    {
     "data": {
      "application/javascript": [
       "parent.postMessage({\"jupyterEvent\": \"custom.exercise_interaction\", \"data\": {\"outcomeType\": 1, \"valueTowardsCompletion\": 0.3333333333333333, \"interactionType\": 1, \"questionType\": 1, \"questionId\": \"0.1_ZA\", \"learnToolsVersion\": \"0.3.4\", \"failureMessage\": \"\", \"exceptionClass\": \"\", \"trace\": \"\"}}, \"*\")"
      ],
      "text/plain": [
       "<IPython.core.display.Javascript object>"
      ]
     },
     "metadata": {},
     "output_type": "display_data"
    },
    {
     "data": {
      "text/markdown": [
       "<span style=\"color:#33cc33\">Correct:</span> \n",
       "\n",
       "The empty string has length zero. Note that the empty string is also the only string that Python considers as False when converting to boolean."
      ],
      "text/plain": [
       "Correct: \n",
       "\n",
       "The empty string has length zero. Note that the empty string is also the only string that Python considers as False when converting to boolean."
      ]
     },
     "metadata": {},
     "output_type": "display_data"
    }
   ],
   "source": [
    "a = \"\"\n",
    "length = 0\n",
    "q0.a.check()"
   ]
  },
  {
   "cell_type": "markdown",
   "id": "5635d09f",
   "metadata": {
    "papermill": {
     "duration": 0.004841,
     "end_time": "2025-02-28T09:49:29.163239",
     "exception": false,
     "start_time": "2025-02-28T09:49:29.158398",
     "status": "completed"
    },
    "tags": []
   },
   "source": [
    "# 0b."
   ]
  },
  {
   "cell_type": "code",
   "execution_count": 3,
   "id": "9fdcb3e9",
   "metadata": {
    "execution": {
     "iopub.execute_input": "2025-02-28T09:49:29.173916Z",
     "iopub.status.busy": "2025-02-28T09:49:29.173566Z",
     "iopub.status.idle": "2025-02-28T09:49:29.181414Z",
     "shell.execute_reply": "2025-02-28T09:49:29.180255Z"
    },
    "papermill": {
     "duration": 0.015094,
     "end_time": "2025-02-28T09:49:29.183016",
     "exception": false,
     "start_time": "2025-02-28T09:49:29.167922",
     "status": "completed"
    },
    "tags": []
   },
   "outputs": [
    {
     "data": {
      "application/javascript": [
       "parent.postMessage({\"jupyterEvent\": \"custom.exercise_interaction\", \"data\": {\"outcomeType\": 1, \"valueTowardsCompletion\": 0.3333333333333333, \"interactionType\": 1, \"questionType\": 1, \"questionId\": \"0.2_ZB\", \"learnToolsVersion\": \"0.3.4\", \"failureMessage\": \"\", \"exceptionClass\": \"\", \"trace\": \"\"}}, \"*\")"
      ],
      "text/plain": [
       "<IPython.core.display.Javascript object>"
      ]
     },
     "metadata": {},
     "output_type": "display_data"
    },
    {
     "data": {
      "text/markdown": [
       "<span style=\"color:#33cc33\">Correct:</span> \n",
       "\n",
       "Keep in mind Python includes spaces (and punctuation) when counting string length."
      ],
      "text/plain": [
       "Correct: \n",
       "\n",
       "Keep in mind Python includes spaces (and punctuation) when counting string length."
      ]
     },
     "metadata": {},
     "output_type": "display_data"
    }
   ],
   "source": [
    "b = \"it's ok\"\n",
    "length = 7\n",
    "q0.b.check()"
   ]
  },
  {
   "cell_type": "markdown",
   "id": "fd2d5c41",
   "metadata": {
    "papermill": {
     "duration": 0.004642,
     "end_time": "2025-02-28T09:49:29.193227",
     "exception": false,
     "start_time": "2025-02-28T09:49:29.188585",
     "status": "completed"
    },
    "tags": []
   },
   "source": [
    "# 0c."
   ]
  },
  {
   "cell_type": "code",
   "execution_count": 4,
   "id": "8bceee11",
   "metadata": {
    "execution": {
     "iopub.execute_input": "2025-02-28T09:49:29.204364Z",
     "iopub.status.busy": "2025-02-28T09:49:29.203969Z",
     "iopub.status.idle": "2025-02-28T09:49:29.211708Z",
     "shell.execute_reply": "2025-02-28T09:49:29.210846Z"
    },
    "papermill": {
     "duration": 0.015159,
     "end_time": "2025-02-28T09:49:29.213390",
     "exception": false,
     "start_time": "2025-02-28T09:49:29.198231",
     "status": "completed"
    },
    "tags": []
   },
   "outputs": [
    {
     "data": {
      "application/javascript": [
       "parent.postMessage({\"jupyterEvent\": \"custom.exercise_interaction\", \"data\": {\"outcomeType\": 1, \"valueTowardsCompletion\": 0.3333333333333333, \"interactionType\": 1, \"questionType\": 1, \"questionId\": \"0.3_ZC\", \"learnToolsVersion\": \"0.3.4\", \"failureMessage\": \"\", \"exceptionClass\": \"\", \"trace\": \"\"}}, \"*\")"
      ],
      "text/plain": [
       "<IPython.core.display.Javascript object>"
      ]
     },
     "metadata": {},
     "output_type": "display_data"
    },
    {
     "data": {
      "text/markdown": [
       "<span style=\"color:#33cc33\">Correct:</span> \n",
       "\n",
       "Even though we use different syntax to create it, the string `c` is identical to `b`. In particular, note that the backslash is not part of the string, so it doesn't contribute to its length."
      ],
      "text/plain": [
       "Correct: \n",
       "\n",
       "Even though we use different syntax to create it, the string `c` is identical to `b`. In particular, note that the backslash is not part of the string, so it doesn't contribute to its length."
      ]
     },
     "metadata": {},
     "output_type": "display_data"
    }
   ],
   "source": [
    "c = 'it\\'s ok'\n",
    "length = 7\n",
    "q0.c.check()"
   ]
  },
  {
   "cell_type": "markdown",
   "id": "4dd4450b",
   "metadata": {
    "papermill": {
     "duration": 0.004977,
     "end_time": "2025-02-28T09:49:29.223499",
     "exception": false,
     "start_time": "2025-02-28T09:49:29.218522",
     "status": "completed"
    },
    "tags": []
   },
   "source": [
    "# 0d."
   ]
  },
  {
   "cell_type": "code",
   "execution_count": 5,
   "id": "c56bb5b5",
   "metadata": {
    "execution": {
     "iopub.execute_input": "2025-02-28T09:49:29.234820Z",
     "iopub.status.busy": "2025-02-28T09:49:29.234500Z",
     "iopub.status.idle": "2025-02-28T09:49:29.241752Z",
     "shell.execute_reply": "2025-02-28T09:49:29.240923Z"
    },
    "papermill": {
     "duration": 0.014766,
     "end_time": "2025-02-28T09:49:29.243309",
     "exception": false,
     "start_time": "2025-02-28T09:49:29.228543",
     "status": "completed"
    },
    "tags": []
   },
   "outputs": [
    {
     "data": {
      "application/javascript": [
       "parent.postMessage({\"jupyterEvent\": \"custom.exercise_interaction\", \"data\": {\"outcomeType\": 1, \"valueTowardsCompletion\": 0.3333333333333333, \"interactionType\": 1, \"questionType\": 1, \"questionId\": \"0.4_ZD\", \"learnToolsVersion\": \"0.3.4\", \"failureMessage\": \"\", \"exceptionClass\": \"\", \"trace\": \"\"}}, \"*\")"
      ],
      "text/plain": [
       "<IPython.core.display.Javascript object>"
      ]
     },
     "metadata": {},
     "output_type": "display_data"
    },
    {
     "data": {
      "text/markdown": [
       "<span style=\"color:#33cc33\">Correct:</span> \n",
       "\n",
       "The fact that this string was created using triple-quote syntax doesn't make any difference in terms of its content or length. This string is exactly the same as `'hey'`."
      ],
      "text/plain": [
       "Correct: \n",
       "\n",
       "The fact that this string was created using triple-quote syntax doesn't make any difference in terms of its content or length. This string is exactly the same as `'hey'`."
      ]
     },
     "metadata": {},
     "output_type": "display_data"
    }
   ],
   "source": [
    "d = \"\"\"hey\"\"\"\n",
    "length = 3\n",
    "q0.d.check()"
   ]
  },
  {
   "cell_type": "markdown",
   "id": "2335d1f8",
   "metadata": {
    "papermill": {
     "duration": 0.005093,
     "end_time": "2025-02-28T09:49:29.253698",
     "exception": false,
     "start_time": "2025-02-28T09:49:29.248605",
     "status": "completed"
    },
    "tags": []
   },
   "source": [
    "# 0e."
   ]
  },
  {
   "cell_type": "code",
   "execution_count": 6,
   "id": "3ab9b2f0",
   "metadata": {
    "execution": {
     "iopub.execute_input": "2025-02-28T09:49:29.265462Z",
     "iopub.status.busy": "2025-02-28T09:49:29.265116Z",
     "iopub.status.idle": "2025-02-28T09:49:29.272449Z",
     "shell.execute_reply": "2025-02-28T09:49:29.271435Z"
    },
    "papermill": {
     "duration": 0.014958,
     "end_time": "2025-02-28T09:49:29.273905",
     "exception": false,
     "start_time": "2025-02-28T09:49:29.258947",
     "status": "completed"
    },
    "tags": []
   },
   "outputs": [
    {
     "data": {
      "application/javascript": [
       "parent.postMessage({\"jupyterEvent\": \"custom.exercise_interaction\", \"data\": {\"outcomeType\": 1, \"valueTowardsCompletion\": 0.3333333333333333, \"interactionType\": 1, \"questionType\": 1, \"questionId\": \"0.5_ZE\", \"learnToolsVersion\": \"0.3.4\", \"failureMessage\": \"\", \"exceptionClass\": \"\", \"trace\": \"\"}}, \"*\")"
      ],
      "text/plain": [
       "<IPython.core.display.Javascript object>"
      ]
     },
     "metadata": {},
     "output_type": "display_data"
    },
    {
     "data": {
      "text/markdown": [
       "<span style=\"color:#33cc33\">Correct:</span> \n",
       "\n",
       "The newline character is just a single character! (Even though we represent it to Python using a combination of two characters.)"
      ],
      "text/plain": [
       "Correct: \n",
       "\n",
       "The newline character is just a single character! (Even though we represent it to Python using a combination of two characters.)"
      ]
     },
     "metadata": {},
     "output_type": "display_data"
    }
   ],
   "source": [
    "e = '\\n'\n",
    "length = 1\n",
    "q0.e.check()"
   ]
  },
  {
   "cell_type": "markdown",
   "id": "d7afce8e",
   "metadata": {
    "papermill": {
     "duration": 0.005352,
     "end_time": "2025-02-28T09:49:29.284837",
     "exception": false,
     "start_time": "2025-02-28T09:49:29.279485",
     "status": "completed"
    },
    "tags": []
   },
   "source": [
    "# 1.\n",
    "\n",
    "There is a saying that \"Data scientists spend 80% of their time cleaning data, and 20% of their time complaining about cleaning data.\" Let's see if you can write a function to help clean US zip code data. Given a string, it should return whether or not that string represents a valid zip code. For our purposes, a valid zip code is any string consisting of exactly 5 digits.\n",
    "\n",
    "HINT: `str` has a method that will be useful here. Use `help(str)` to review a list of string methods."
   ]
  },
  {
   "cell_type": "code",
   "execution_count": 7,
   "id": "8345820e",
   "metadata": {
    "execution": {
     "iopub.execute_input": "2025-02-28T09:49:29.296932Z",
     "iopub.status.busy": "2025-02-28T09:49:29.296599Z",
     "iopub.status.idle": "2025-02-28T09:49:29.304169Z",
     "shell.execute_reply": "2025-02-28T09:49:29.303200Z"
    },
    "papermill": {
     "duration": 0.015431,
     "end_time": "2025-02-28T09:49:29.305698",
     "exception": false,
     "start_time": "2025-02-28T09:49:29.290267",
     "status": "completed"
    },
    "tags": []
   },
   "outputs": [
    {
     "data": {
      "application/javascript": [
       "parent.postMessage({\"jupyterEvent\": \"custom.exercise_interaction\", \"data\": {\"outcomeType\": 1, \"valueTowardsCompletion\": 0.3333333333333333, \"interactionType\": 1, \"questionType\": 2, \"questionId\": \"1_ZipValidator\", \"learnToolsVersion\": \"0.3.4\", \"failureMessage\": \"\", \"exceptionClass\": \"\", \"trace\": \"\"}}, \"*\")"
      ],
      "text/plain": [
       "<IPython.core.display.Javascript object>"
      ]
     },
     "metadata": {},
     "output_type": "display_data"
    },
    {
     "data": {
      "text/markdown": [
       "<span style=\"color:#33cc33\">Correct</span>"
      ],
      "text/plain": [
       "Correct"
      ]
     },
     "metadata": {},
     "output_type": "display_data"
    }
   ],
   "source": [
    "def is_valid_zip(zip_code):\n",
    "    \"\"\"Returns whether the input string is a valid (5 digit) zip code\n",
    "    \"\"\"\n",
    "    return len(zip_code) == 5 and zip_code.isdigit()\n",
    "\n",
    "# Check your answer\n",
    "q1.check()"
   ]
  },
  {
   "cell_type": "code",
   "execution_count": 8,
   "id": "fe1225c5",
   "metadata": {
    "execution": {
     "iopub.execute_input": "2025-02-28T09:49:29.318878Z",
     "iopub.status.busy": "2025-02-28T09:49:29.318540Z",
     "iopub.status.idle": "2025-02-28T09:49:29.322499Z",
     "shell.execute_reply": "2025-02-28T09:49:29.321447Z"
    },
    "papermill": {
     "duration": 0.01247,
     "end_time": "2025-02-28T09:49:29.323994",
     "exception": false,
     "start_time": "2025-02-28T09:49:29.311524",
     "status": "completed"
    },
    "tags": []
   },
   "outputs": [],
   "source": [
    "#q1.hint()\n",
    "#q1.solution()"
   ]
  },
  {
   "cell_type": "markdown",
   "id": "20b4b040",
   "metadata": {
    "papermill": {
     "duration": 0.005523,
     "end_time": "2025-02-28T09:49:29.335375",
     "exception": false,
     "start_time": "2025-02-28T09:49:29.329852",
     "status": "completed"
    },
    "tags": []
   },
   "source": [
    "# 2.\n",
    "\n",
    "A researcher has gathered thousands of news articles. But she wants to focus her attention on articles including a specific word. Complete the function below to help her filter her list of articles.\n",
    "\n",
    "Your function should meet the following criteria:\n",
    "\n",
    "- Do not include documents where the keyword string shows up only as a part of a larger word. For example, if she were looking for the keyword “closed”, you would not include the string “enclosed.” \n",
    "- She does not want you to distinguish upper case from lower case letters. So the phrase “Closed the case.” would be included when the keyword is “closed”\n",
    "- Do not let periods or commas affect what is matched. “It is closed.” would be included when the keyword is “closed”. But you can assume there are no other types of punctuation."
   ]
  },
  {
   "cell_type": "code",
   "execution_count": 9,
   "id": "abb9e3fb",
   "metadata": {
    "execution": {
     "iopub.execute_input": "2025-02-28T09:49:29.348799Z",
     "iopub.status.busy": "2025-02-28T09:49:29.348442Z",
     "iopub.status.idle": "2025-02-28T09:49:29.358359Z",
     "shell.execute_reply": "2025-02-28T09:49:29.357211Z"
    },
    "papermill": {
     "duration": 0.018715,
     "end_time": "2025-02-28T09:49:29.360008",
     "exception": false,
     "start_time": "2025-02-28T09:49:29.341293",
     "status": "completed"
    },
    "tags": []
   },
   "outputs": [
    {
     "data": {
      "application/javascript": [
       "parent.postMessage({\"jupyterEvent\": \"custom.exercise_interaction\", \"data\": {\"outcomeType\": 1, \"valueTowardsCompletion\": 0.3333333333333333, \"interactionType\": 1, \"questionType\": 2, \"questionId\": \"2_WordSearch\", \"learnToolsVersion\": \"0.3.4\", \"failureMessage\": \"\", \"exceptionClass\": \"\", \"trace\": \"\"}}, \"*\")"
      ],
      "text/plain": [
       "<IPython.core.display.Javascript object>"
      ]
     },
     "metadata": {},
     "output_type": "display_data"
    },
    {
     "data": {
      "text/markdown": [
       "<span style=\"color:#33cc33\">Correct</span>"
      ],
      "text/plain": [
       "Correct"
      ]
     },
     "metadata": {},
     "output_type": "display_data"
    }
   ],
   "source": [
    "def word_search(doc_list, keyword):\n",
    "    \"\"\"\n",
    "    Takes a list of documents (each document is a string) and a keyword. \n",
    "    Returns list of the index values into the original list for all documents \n",
    "    containing the keyword.\n",
    "\n",
    "    Example:\n",
    "    doc_list = [\"The Learn Python Challenge Casino.\", \"They bought a car\", \"Casinoville\"]\n",
    "    >>> word_search(doc_list, 'casino')\n",
    "    >>> [0]\n",
    "    \"\"\"\n",
    "    # help(str)\n",
    "    keyword = keyword.upper()\n",
    "    # print(keyword)\n",
    "    res = []\n",
    "    for i in range(len(doc_list)):\n",
    "        words = doc_list[i].upper().split(' ')\n",
    "        # print(words)\n",
    "        for j in range(len(words)):\n",
    "            if words[j][-1]==',' or words[j][-1]=='.':\n",
    "                words[j] = words[j][:-1]\n",
    "                # print(words[j])\n",
    "        for word in words:\n",
    "            if word == keyword:\n",
    "                res.append(i)\n",
    "                break\n",
    "    return res\n",
    "\n",
    "# Check your answer\n",
    "q2.check()"
   ]
  },
  {
   "cell_type": "code",
   "execution_count": 10,
   "id": "0484004b",
   "metadata": {
    "execution": {
     "iopub.execute_input": "2025-02-28T09:49:29.373879Z",
     "iopub.status.busy": "2025-02-28T09:49:29.373547Z",
     "iopub.status.idle": "2025-02-28T09:49:29.380373Z",
     "shell.execute_reply": "2025-02-28T09:49:29.379485Z"
    },
    "papermill": {
     "duration": 0.015494,
     "end_time": "2025-02-28T09:49:29.381965",
     "exception": false,
     "start_time": "2025-02-28T09:49:29.366471",
     "status": "completed"
    },
    "tags": []
   },
   "outputs": [
    {
     "data": {
      "application/javascript": [
       "parent.postMessage({\"jupyterEvent\": \"custom.exercise_interaction\", \"data\": {\"interactionType\": 3, \"questionType\": 2, \"questionId\": \"2_WordSearch\", \"learnToolsVersion\": \"0.3.4\", \"valueTowardsCompletion\": 0.0, \"failureMessage\": \"\", \"exceptionClass\": \"\", \"trace\": \"\", \"outcomeType\": 4}}, \"*\")"
      ],
      "text/plain": [
       "<IPython.core.display.Javascript object>"
      ]
     },
     "metadata": {},
     "output_type": "display_data"
    },
    {
     "data": {
      "text/markdown": [
       "<span style=\"color:#33cc99\">Solution:</span> \n",
       "```python\n",
       "def word_search(doc_list, keyword):\n",
       "    # list to hold the indices of matching documents\n",
       "    indices = [] \n",
       "    # Iterate through the indices (i) and elements (doc) of documents\n",
       "    for i, doc in enumerate(doc_list):\n",
       "        # Split the string doc into a list of words (according to whitespace)\n",
       "        tokens = doc.split()\n",
       "        # Make a transformed list where we 'normalize' each word to facilitate matching.\n",
       "        # Periods and commas are removed from the end of each word, and it's set to all lowercase.\n",
       "        normalized = [token.rstrip('.,').lower() for token in tokens]\n",
       "        # Is there a match? If so, update the list of matching indices.\n",
       "        if keyword.lower() in normalized:\n",
       "            indices.append(i)\n",
       "    return indices\n",
       "```"
      ],
      "text/plain": [
       "Solution: \n",
       "```python\n",
       "def word_search(doc_list, keyword):\n",
       "    # list to hold the indices of matching documents\n",
       "    indices = [] \n",
       "    # Iterate through the indices (i) and elements (doc) of documents\n",
       "    for i, doc in enumerate(doc_list):\n",
       "        # Split the string doc into a list of words (according to whitespace)\n",
       "        tokens = doc.split()\n",
       "        # Make a transformed list where we 'normalize' each word to facilitate matching.\n",
       "        # Periods and commas are removed from the end of each word, and it's set to all lowercase.\n",
       "        normalized = [token.rstrip('.,').lower() for token in tokens]\n",
       "        # Is there a match? If so, update the list of matching indices.\n",
       "        if keyword.lower() in normalized:\n",
       "            indices.append(i)\n",
       "    return indices\n",
       "```"
      ]
     },
     "metadata": {},
     "output_type": "display_data"
    }
   ],
   "source": [
    "#q2.hint()\n",
    "q2.solution()"
   ]
  },
  {
   "cell_type": "markdown",
   "id": "50acf7c0",
   "metadata": {
    "papermill": {
     "duration": 0.006143,
     "end_time": "2025-02-28T09:49:29.394396",
     "exception": false,
     "start_time": "2025-02-28T09:49:29.388253",
     "status": "completed"
    },
    "tags": []
   },
   "source": [
    "# 3.\n",
    "\n",
    "Now the researcher wants to supply multiple keywords to search for. Complete the function below to help her.\n",
    "\n",
    "(You're encouraged to use the `word_search` function you just wrote when implementing this function. Reusing code in this way makes your programs more robust and readable - and it saves typing!)"
   ]
  },
  {
   "cell_type": "code",
   "execution_count": 11,
   "id": "d509af7a",
   "metadata": {
    "execution": {
     "iopub.execute_input": "2025-02-28T09:49:29.408236Z",
     "iopub.status.busy": "2025-02-28T09:49:29.407854Z",
     "iopub.status.idle": "2025-02-28T09:49:29.415744Z",
     "shell.execute_reply": "2025-02-28T09:49:29.414845Z"
    },
    "papermill": {
     "duration": 0.016531,
     "end_time": "2025-02-28T09:49:29.417336",
     "exception": false,
     "start_time": "2025-02-28T09:49:29.400805",
     "status": "completed"
    },
    "tags": []
   },
   "outputs": [
    {
     "data": {
      "application/javascript": [
       "parent.postMessage({\"jupyterEvent\": \"custom.exercise_interaction\", \"data\": {\"outcomeType\": 1, \"valueTowardsCompletion\": 0.3333333333333333, \"interactionType\": 1, \"questionType\": 2, \"questionId\": \"3_MultiWordSearch\", \"learnToolsVersion\": \"0.3.4\", \"failureMessage\": \"\", \"exceptionClass\": \"\", \"trace\": \"\"}}, \"*\")"
      ],
      "text/plain": [
       "<IPython.core.display.Javascript object>"
      ]
     },
     "metadata": {},
     "output_type": "display_data"
    },
    {
     "data": {
      "text/markdown": [
       "<span style=\"color:#33cc33\">Correct</span>"
      ],
      "text/plain": [
       "Correct"
      ]
     },
     "metadata": {},
     "output_type": "display_data"
    }
   ],
   "source": [
    "def multi_word_search(doc_list, keywords):\n",
    "    \"\"\"\n",
    "    Takes list of documents (each document is a string) and a list of keywords.  \n",
    "    Returns a dictionary where each key is a keyword, and the value is a list of indices\n",
    "    (from doc_list) of the documents containing that keyword\n",
    "\n",
    "    >>> doc_list = [\"The Learn Python Challenge Casino.\", \"They bought a car and a casino\", \"Casinoville\"]\n",
    "    >>> keywords = ['casino', 'they']\n",
    "    >>> multi_word_search(doc_list, keywords)\n",
    "    {'casino': [0, 1], 'they': [1]}\n",
    "    \"\"\"\n",
    "    res = {}\n",
    "    \n",
    "    for keyword in keywords:\n",
    "        res[keyword] = word_search(doc_list, keyword)\n",
    "    return res\n",
    "\n",
    "# Check your answer\n",
    "q3.check()"
   ]
  },
  {
   "cell_type": "code",
   "execution_count": 12,
   "id": "ae28a5f5",
   "metadata": {
    "execution": {
     "iopub.execute_input": "2025-02-28T09:49:29.431892Z",
     "iopub.status.busy": "2025-02-28T09:49:29.431513Z",
     "iopub.status.idle": "2025-02-28T09:49:29.435154Z",
     "shell.execute_reply": "2025-02-28T09:49:29.434196Z"
    },
    "papermill": {
     "duration": 0.012635,
     "end_time": "2025-02-28T09:49:29.436749",
     "exception": false,
     "start_time": "2025-02-28T09:49:29.424114",
     "status": "completed"
    },
    "tags": []
   },
   "outputs": [],
   "source": [
    "#q3.solution()"
   ]
  },
  {
   "cell_type": "markdown",
   "id": "a3602bd4",
   "metadata": {
    "papermill": {
     "duration": 0.006321,
     "end_time": "2025-02-28T09:49:29.449888",
     "exception": false,
     "start_time": "2025-02-28T09:49:29.443567",
     "status": "completed"
    },
    "tags": []
   },
   "source": [
    "# Keep Going\n",
    "\n",
    "You've learned a lot. But even the best programmers rely heavily on \"libraries\" of code from other programmers. You'll learn about that in **[the last lesson](https://www.kaggle.com/colinmorris/working-with-external-libraries)**.\n"
   ]
  },
  {
   "cell_type": "markdown",
   "id": "0dd30ea0",
   "metadata": {
    "papermill": {
     "duration": 0.006251,
     "end_time": "2025-02-28T09:49:29.462816",
     "exception": false,
     "start_time": "2025-02-28T09:49:29.456565",
     "status": "completed"
    },
    "tags": []
   },
   "source": [
    "---\n",
    "\n",
    "\n",
    "\n",
    "\n",
    "*Have questions or comments? Visit the [course discussion forum](https://www.kaggle.com/learn/python/discussion) to chat with other learners.*"
   ]
  }
 ],
 "metadata": {
  "kaggle": {
   "accelerator": "none",
   "dataSources": [],
   "isGpuEnabled": false,
   "isInternetEnabled": false,
   "language": "python",
   "sourceType": "notebook"
  },
  "kernelspec": {
   "display_name": "Python 3",
   "language": "python",
   "name": "python3"
  },
  "language_info": {
   "codemirror_mode": {
    "name": "ipython",
    "version": 3
   },
   "file_extension": ".py",
   "mimetype": "text/x-python",
   "name": "python",
   "nbconvert_exporter": "python",
   "pygments_lexer": "ipython3",
   "version": "3.10.12"
  },
  "learntools_metadata": {
   "lesson_index": 5,
   "type": "exercise"
  },
  "papermill": {
   "default_parameters": {},
   "duration": 4.613045,
   "end_time": "2025-02-28T09:49:29.989505",
   "environment_variables": {},
   "exception": null,
   "input_path": "__notebook__.ipynb",
   "output_path": "__notebook__.ipynb",
   "parameters": {},
   "start_time": "2025-02-28T09:49:25.376460",
   "version": "2.6.0"
  }
 },
 "nbformat": 4,
 "nbformat_minor": 5
}
