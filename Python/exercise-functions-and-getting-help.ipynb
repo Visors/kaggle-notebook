{
 "cells": [
  {
   "cell_type": "markdown",
   "id": "2659e269",
   "metadata": {
    "papermill": {
     "duration": 0.004736,
     "end_time": "2025-02-25T09:03:06.071346",
     "exception": false,
     "start_time": "2025-02-25T09:03:06.066610",
     "status": "completed"
    },
    "tags": []
   },
   "source": [
    "**This notebook is an exercise in the [Python](https://www.kaggle.com/learn/python) course.  You can reference the tutorial at [this link](https://www.kaggle.com/colinmorris/functions-and-getting-help).**\n",
    "\n",
    "---\n"
   ]
  },
  {
   "cell_type": "markdown",
   "id": "985c9c66",
   "metadata": {
    "papermill": {
     "duration": 0.003597,
     "end_time": "2025-02-25T09:03:06.079291",
     "exception": false,
     "start_time": "2025-02-25T09:03:06.075694",
     "status": "completed"
    },
    "tags": []
   },
   "source": [
    "Functions are powerful. Try writing some yourself.\n",
    "\n",
    "As before, don't forget to run the setup code below before jumping into question 1."
   ]
  },
  {
   "cell_type": "code",
   "execution_count": 1,
   "id": "2d334597",
   "metadata": {
    "_kg_hide-input": true,
    "_kg_hide-output": true,
    "execution": {
     "iopub.execute_input": "2025-02-25T09:03:06.088264Z",
     "iopub.status.busy": "2025-02-25T09:03:06.087878Z",
     "iopub.status.idle": "2025-02-25T09:03:07.102942Z",
     "shell.execute_reply": "2025-02-25T09:03:07.101575Z"
    },
    "papermill": {
     "duration": 1.021917,
     "end_time": "2025-02-25T09:03:07.105110",
     "exception": false,
     "start_time": "2025-02-25T09:03:06.083193",
     "status": "completed"
    },
    "tags": []
   },
   "outputs": [
    {
     "name": "stdout",
     "output_type": "stream",
     "text": [
      "Setup complete.\n"
     ]
    }
   ],
   "source": [
    "# SETUP. You don't need to worry for now about what this code does or how it works.\n",
    "from learntools.core import binder; binder.bind(globals())\n",
    "from learntools.python.ex2 import *\n",
    "print('Setup complete.')"
   ]
  },
  {
   "cell_type": "markdown",
   "id": "93fb549a",
   "metadata": {
    "papermill": {
     "duration": 0.003961,
     "end_time": "2025-02-25T09:03:07.113491",
     "exception": false,
     "start_time": "2025-02-25T09:03:07.109530",
     "status": "completed"
    },
    "tags": []
   },
   "source": [
    "# 1.\n",
    "\n",
    "Complete the body of the following function according to its docstring.\n",
    "\n",
    "HINT: Python has a built-in function `round`."
   ]
  },
  {
   "cell_type": "code",
   "execution_count": 2,
   "id": "bd8ed5e1",
   "metadata": {
    "execution": {
     "iopub.execute_input": "2025-02-25T09:03:07.123232Z",
     "iopub.status.busy": "2025-02-25T09:03:07.122691Z",
     "iopub.status.idle": "2025-02-25T09:03:07.132732Z",
     "shell.execute_reply": "2025-02-25T09:03:07.131638Z"
    },
    "papermill": {
     "duration": 0.017029,
     "end_time": "2025-02-25T09:03:07.134623",
     "exception": false,
     "start_time": "2025-02-25T09:03:07.117594",
     "status": "completed"
    },
    "tags": []
   },
   "outputs": [
    {
     "data": {
      "application/javascript": [
       "parent.postMessage({\"jupyterEvent\": \"custom.exercise_interaction\", \"data\": {\"outcomeType\": 1, \"valueTowardsCompletion\": 0.16666666666666666, \"interactionType\": 1, \"questionType\": 2, \"questionId\": \"1_RoundFunctionProblem\", \"learnToolsVersion\": \"0.3.4\", \"failureMessage\": \"\", \"exceptionClass\": \"\", \"trace\": \"\"}}, \"*\")"
      ],
      "text/plain": [
       "<IPython.core.display.Javascript object>"
      ]
     },
     "metadata": {},
     "output_type": "display_data"
    },
    {
     "data": {
      "text/markdown": [
       "<span style=\"color:#33cc33\">Correct</span>"
      ],
      "text/plain": [
       "Correct"
      ]
     },
     "metadata": {},
     "output_type": "display_data"
    }
   ],
   "source": [
    "def round_to_two_places(num):\n",
    "    \"\"\"Return the given number rounded to two decimal places. \n",
    "    \n",
    "    >>> round_to_two_places(3.14159)\n",
    "    3.14\n",
    "    \"\"\"\n",
    "    # Replace this body with your own code.\n",
    "    # (\"pass\" is a keyword that does literally nothing. We used it as a placeholder\n",
    "    # because after we begin a code block, Python requires at least one line of code)\n",
    "    \n",
    "    # return round(num * 100.) / 100.\n",
    "    return num * 100. // 1 / 100.\n",
    "\n",
    "# Check your answer\n",
    "q1.check()"
   ]
  },
  {
   "cell_type": "code",
   "execution_count": 3,
   "id": "029143f7",
   "metadata": {
    "execution": {
     "iopub.execute_input": "2025-02-25T09:03:07.145240Z",
     "iopub.status.busy": "2025-02-25T09:03:07.144814Z",
     "iopub.status.idle": "2025-02-25T09:03:07.149365Z",
     "shell.execute_reply": "2025-02-25T09:03:07.148174Z"
    },
    "papermill": {
     "duration": 0.012133,
     "end_time": "2025-02-25T09:03:07.151278",
     "exception": false,
     "start_time": "2025-02-25T09:03:07.139145",
     "status": "completed"
    },
    "tags": []
   },
   "outputs": [],
   "source": [
    "# Uncomment the following for a hint\n",
    "#q1.hint()\n",
    "# Or uncomment the following to peek at the solution\n",
    "#q1.solution()"
   ]
  },
  {
   "cell_type": "markdown",
   "id": "f6a5163d",
   "metadata": {
    "papermill": {
     "duration": 0.004066,
     "end_time": "2025-02-25T09:03:07.159755",
     "exception": false,
     "start_time": "2025-02-25T09:03:07.155689",
     "status": "completed"
    },
    "tags": []
   },
   "source": [
    "# 2.\n",
    "The help for `round` says that `ndigits` (the second argument) may be negative.\n",
    "What do you think will happen when it is? Try some examples in the following cell."
   ]
  },
  {
   "cell_type": "code",
   "execution_count": 4,
   "id": "a99c2335",
   "metadata": {
    "execution": {
     "iopub.execute_input": "2025-02-25T09:03:07.169710Z",
     "iopub.status.busy": "2025-02-25T09:03:07.169329Z",
     "iopub.status.idle": "2025-02-25T09:03:07.175539Z",
     "shell.execute_reply": "2025-02-25T09:03:07.173795Z"
    },
    "papermill": {
     "duration": 0.013559,
     "end_time": "2025-02-25T09:03:07.177613",
     "exception": false,
     "start_time": "2025-02-25T09:03:07.164054",
     "status": "completed"
    },
    "tags": []
   },
   "outputs": [
    {
     "name": "stdout",
     "output_type": "stream",
     "text": [
      "20030000\n"
     ]
    }
   ],
   "source": [
    "# Put your test code here\n",
    "# help(round)\n",
    "print(round(20030730, ndigits=-4))"
   ]
  },
  {
   "cell_type": "markdown",
   "id": "55ab1d25",
   "metadata": {
    "papermill": {
     "duration": 0.00402,
     "end_time": "2025-02-25T09:03:07.186136",
     "exception": false,
     "start_time": "2025-02-25T09:03:07.182116",
     "status": "completed"
    },
    "tags": []
   },
   "source": [
    "Can you think of a case where this would be useful?  Once you're ready, run the code cell below to see the answer and to receive credit for completing the problem."
   ]
  },
  {
   "cell_type": "code",
   "execution_count": 5,
   "id": "a90f3630",
   "metadata": {
    "execution": {
     "iopub.execute_input": "2025-02-25T09:03:07.196078Z",
     "iopub.status.busy": "2025-02-25T09:03:07.195679Z",
     "iopub.status.idle": "2025-02-25T09:03:07.203240Z",
     "shell.execute_reply": "2025-02-25T09:03:07.202146Z"
    },
    "papermill": {
     "duration": 0.014422,
     "end_time": "2025-02-25T09:03:07.204823",
     "exception": false,
     "start_time": "2025-02-25T09:03:07.190401",
     "status": "completed"
    },
    "tags": []
   },
   "outputs": [
    {
     "data": {
      "application/javascript": [
       "parent.postMessage({\"jupyterEvent\": \"custom.exercise_interaction\", \"data\": {\"interactionType\": 3, \"questionType\": 4, \"questionId\": \"2_RoundNdigitsProblem\", \"learnToolsVersion\": \"0.3.4\", \"valueTowardsCompletion\": 0.0, \"failureMessage\": \"\", \"exceptionClass\": \"\", \"trace\": \"\", \"outcomeType\": 4}}, \"*\")"
      ],
      "text/plain": [
       "<IPython.core.display.Javascript object>"
      ]
     },
     "metadata": {},
     "output_type": "display_data"
    },
    {
     "data": {
      "text/markdown": [
       "<span style=\"color:#33cc99\">Solution:</span> As you've seen, `ndigits=-1` rounds to the nearest 10, `ndigits=-2` rounds to the nearest 100 and so on. Where might this be useful? Suppose we're dealing with large numbers:\n",
       "\n",
       "> The area of Finland is 338,424 km²  \n",
       "> The area of Greenland is 2,166,086 km²\n",
       "\n",
       "We probably don't care whether it's really 338,424, or 338,425, or 338,177. All those digits of accuracy are just distracting. We can chop them off by calling `round()` with `ndigits=-3`:\n",
       "\n",
       "> The area of Finland is 338,000 km²  \n",
       "> The area of Greenland is 2,166,000 km²\n",
       "\n",
       "(We'll talk about how we would get the commas later when we talk about string formatting :))\n"
      ],
      "text/plain": [
       "Solution: As you've seen, `ndigits=-1` rounds to the nearest 10, `ndigits=-2` rounds to the nearest 100 and so on. Where might this be useful? Suppose we're dealing with large numbers:\n",
       "\n",
       "> The area of Finland is 338,424 km²  \n",
       "> The area of Greenland is 2,166,086 km²\n",
       "\n",
       "We probably don't care whether it's really 338,424, or 338,425, or 338,177. All those digits of accuracy are just distracting. We can chop them off by calling `round()` with `ndigits=-3`:\n",
       "\n",
       "> The area of Finland is 338,000 km²  \n",
       "> The area of Greenland is 2,166,000 km²\n",
       "\n",
       "(We'll talk about how we would get the commas later when we talk about string formatting :))"
      ]
     },
     "metadata": {},
     "output_type": "display_data"
    }
   ],
   "source": [
    "# Check your answer (Run this code cell to receive credit!)\n",
    "q2.solution()"
   ]
  },
  {
   "cell_type": "markdown",
   "id": "34055ebe",
   "metadata": {
    "papermill": {
     "duration": 0.004242,
     "end_time": "2025-02-25T09:03:07.213853",
     "exception": false,
     "start_time": "2025-02-25T09:03:07.209611",
     "status": "completed"
    },
    "tags": []
   },
   "source": [
    "# 3.\n",
    "\n",
    "In the previous exercise, the candy-sharing friends Alice, Bob and Carol tried to split candies evenly. For the sake of their friendship, any candies left over would be smashed. For example, if they collectively bring home 91 candies, they'll take 30 each and smash 1.\n",
    "\n",
    "Below is a simple function that will calculate the number of candies to smash for *any* number of total candies.\n",
    "\n",
    "Modify it so that it optionally takes a second argument representing the number of friends the candies are being split between. If no second argument is provided, it should assume 3 friends, as before.\n",
    "\n",
    "Update the docstring to reflect this new behaviour."
   ]
  },
  {
   "cell_type": "code",
   "execution_count": 6,
   "id": "d06668bd",
   "metadata": {
    "execution": {
     "iopub.execute_input": "2025-02-25T09:03:07.224363Z",
     "iopub.status.busy": "2025-02-25T09:03:07.223884Z",
     "iopub.status.idle": "2025-02-25T09:03:07.232269Z",
     "shell.execute_reply": "2025-02-25T09:03:07.231125Z"
    },
    "papermill": {
     "duration": 0.015417,
     "end_time": "2025-02-25T09:03:07.233957",
     "exception": false,
     "start_time": "2025-02-25T09:03:07.218540",
     "status": "completed"
    },
    "tags": []
   },
   "outputs": [
    {
     "data": {
      "application/javascript": [
       "parent.postMessage({\"jupyterEvent\": \"custom.exercise_interaction\", \"data\": {\"outcomeType\": 1, \"valueTowardsCompletion\": 0.16666666666666666, \"interactionType\": 1, \"questionType\": 2, \"questionId\": \"3_CandySmashingFunctionProblem\", \"learnToolsVersion\": \"0.3.4\", \"failureMessage\": \"\", \"exceptionClass\": \"\", \"trace\": \"\"}}, \"*\")"
      ],
      "text/plain": [
       "<IPython.core.display.Javascript object>"
      ]
     },
     "metadata": {},
     "output_type": "display_data"
    },
    {
     "data": {
      "text/markdown": [
       "<span style=\"color:#33cc33\">Correct</span>"
      ],
      "text/plain": [
       "Correct"
      ]
     },
     "metadata": {},
     "output_type": "display_data"
    }
   ],
   "source": [
    "def to_smash(total_candies, num_friends=3):\n",
    "    \"\"\"Return the number of leftover candies that must be smashed after distributing\n",
    "    the given number of candies evenly between 3 friends.\n",
    "    \n",
    "    >>> to_smash(91)\n",
    "    1\n",
    "    \"\"\"\n",
    "    return total_candies % num_friends\n",
    "\n",
    "# Check your answer\n",
    "q3.check()"
   ]
  },
  {
   "cell_type": "code",
   "execution_count": 7,
   "id": "95c26df3",
   "metadata": {
    "execution": {
     "iopub.execute_input": "2025-02-25T09:03:07.244797Z",
     "iopub.status.busy": "2025-02-25T09:03:07.244454Z",
     "iopub.status.idle": "2025-02-25T09:03:07.248686Z",
     "shell.execute_reply": "2025-02-25T09:03:07.247468Z"
    },
    "papermill": {
     "duration": 0.011564,
     "end_time": "2025-02-25T09:03:07.250411",
     "exception": false,
     "start_time": "2025-02-25T09:03:07.238847",
     "status": "completed"
    },
    "tags": []
   },
   "outputs": [],
   "source": [
    "#q3.hint()"
   ]
  },
  {
   "cell_type": "code",
   "execution_count": 8,
   "id": "6814c119",
   "metadata": {
    "execution": {
     "iopub.execute_input": "2025-02-25T09:03:07.261940Z",
     "iopub.status.busy": "2025-02-25T09:03:07.261607Z",
     "iopub.status.idle": "2025-02-25T09:03:07.265766Z",
     "shell.execute_reply": "2025-02-25T09:03:07.264642Z"
    },
    "papermill": {
     "duration": 0.011723,
     "end_time": "2025-02-25T09:03:07.267401",
     "exception": false,
     "start_time": "2025-02-25T09:03:07.255678",
     "status": "completed"
    },
    "tags": []
   },
   "outputs": [],
   "source": [
    "#q3.solution()"
   ]
  },
  {
   "cell_type": "markdown",
   "id": "0166e482",
   "metadata": {
    "papermill": {
     "duration": 0.004508,
     "end_time": "2025-02-25T09:03:07.276787",
     "exception": false,
     "start_time": "2025-02-25T09:03:07.272279",
     "status": "completed"
    },
    "tags": []
   },
   "source": [
    "# 4. (Optional)\n",
    "\n",
    "It may not be fun, but reading and understanding error messages will be an important part of your Python career.\n",
    "\n",
    "Each code cell below contains some commented buggy code. For each cell...\n",
    "\n",
    "1. Read the code and predict what you think will happen when it's run.\n",
    "2. Then uncomment the code and run it to see what happens. (**Tip**: In the kernel editor, you can highlight several lines and press `ctrl`+`/` to toggle commenting.)\n",
    "3. Fix the code (so that it accomplishes its intended purpose without throwing an exception)\n",
    "\n",
    "<!-- TODO: should this be autochecked? Delta is probably pretty small. -->"
   ]
  },
  {
   "cell_type": "code",
   "execution_count": 9,
   "id": "839c3233",
   "metadata": {
    "execution": {
     "iopub.execute_input": "2025-02-25T09:03:07.287415Z",
     "iopub.status.busy": "2025-02-25T09:03:07.287024Z",
     "iopub.status.idle": "2025-02-25T09:03:07.292682Z",
     "shell.execute_reply": "2025-02-25T09:03:07.291524Z"
    },
    "papermill": {
     "duration": 0.012936,
     "end_time": "2025-02-25T09:03:07.294388",
     "exception": false,
     "start_time": "2025-02-25T09:03:07.281452",
     "status": "completed"
    },
    "tags": []
   },
   "outputs": [
    {
     "data": {
      "text/plain": [
       "9.99"
      ]
     },
     "execution_count": 9,
     "metadata": {},
     "output_type": "execute_result"
    }
   ],
   "source": [
    "# ruound_to_two_places(9.9999)\n",
    "round_to_two_places(9.9999)"
   ]
  },
  {
   "cell_type": "code",
   "execution_count": 10,
   "id": "8397ee5e",
   "metadata": {
    "execution": {
     "iopub.execute_input": "2025-02-25T09:03:07.305641Z",
     "iopub.status.busy": "2025-02-25T09:03:07.305289Z",
     "iopub.status.idle": "2025-02-25T09:03:07.310630Z",
     "shell.execute_reply": "2025-02-25T09:03:07.309484Z"
    },
    "papermill": {
     "duration": 0.012777,
     "end_time": "2025-02-25T09:03:07.312361",
     "exception": false,
     "start_time": "2025-02-25T09:03:07.299584",
     "status": "completed"
    },
    "tags": []
   },
   "outputs": [
    {
     "name": "stdout",
     "output_type": "stream",
     "text": [
      "5\n"
     ]
    }
   ],
   "source": [
    "x = -10\n",
    "y = 5\n",
    "# Which of the two variables above has the smallest absolute value?\n",
    "smallest_abs = min(abs(x), abs(y))\n",
    "print(smallest_abs)"
   ]
  },
  {
   "cell_type": "code",
   "execution_count": 11,
   "id": "edae6dc8",
   "metadata": {
    "execution": {
     "iopub.execute_input": "2025-02-25T09:03:07.324000Z",
     "iopub.status.busy": "2025-02-25T09:03:07.323617Z",
     "iopub.status.idle": "2025-02-25T09:03:07.329056Z",
     "shell.execute_reply": "2025-02-25T09:03:07.327853Z"
    },
    "papermill": {
     "duration": 0.013139,
     "end_time": "2025-02-25T09:03:07.330781",
     "exception": false,
     "start_time": "2025-02-25T09:03:07.317642",
     "status": "completed"
    },
    "tags": []
   },
   "outputs": [
    {
     "name": "stdout",
     "output_type": "stream",
     "text": [
      "5\n"
     ]
    }
   ],
   "source": [
    "def f(x):\n",
    "    y = abs(x)\n",
    "# return y\n",
    "    return y\n",
    "\n",
    "print(f(5))"
   ]
  },
  {
   "cell_type": "markdown",
   "id": "96438d44",
   "metadata": {
    "papermill": {
     "duration": 0.005142,
     "end_time": "2025-02-25T09:03:07.341413",
     "exception": false,
     "start_time": "2025-02-25T09:03:07.336271",
     "status": "completed"
    },
    "tags": []
   },
   "source": [
    "# Keep Going\n",
    "\n",
    "Nice job with the code. Next up, you'll learn about *conditionals*, which you'll need to **[write interesting programs](https://www.kaggle.com/colinmorris/booleans-and-conditionals)**. "
   ]
  },
  {
   "cell_type": "markdown",
   "id": "5cc1949b",
   "metadata": {
    "papermill": {
     "duration": 0.004934,
     "end_time": "2025-02-25T09:03:07.351911",
     "exception": false,
     "start_time": "2025-02-25T09:03:07.346977",
     "status": "completed"
    },
    "tags": []
   },
   "source": [
    "---\n",
    "\n",
    "\n",
    "\n",
    "\n",
    "*Have questions or comments? Visit the [course discussion forum](https://www.kaggle.com/learn/python/discussion) to chat with other learners.*"
   ]
  }
 ],
 "metadata": {
  "kaggle": {
   "accelerator": "none",
   "dataSources": [],
   "isGpuEnabled": false,
   "isInternetEnabled": false,
   "language": "python",
   "sourceType": "notebook"
  },
  "kernelspec": {
   "display_name": "Python 3",
   "language": "python",
   "name": "python3"
  },
  "language_info": {
   "codemirror_mode": {
    "name": "ipython",
    "version": 3
   },
   "file_extension": ".py",
   "mimetype": "text/x-python",
   "name": "python",
   "nbconvert_exporter": "python",
   "pygments_lexer": "ipython3",
   "version": "3.10.12"
  },
  "learntools_metadata": {
   "lesson_index": 1,
   "type": "exercise"
  },
  "papermill": {
   "default_parameters": {},
   "duration": 5.463705,
   "end_time": "2025-02-25T09:03:07.977757",
   "environment_variables": {},
   "exception": null,
   "input_path": "__notebook__.ipynb",
   "output_path": "__notebook__.ipynb",
   "parameters": {},
   "start_time": "2025-02-25T09:03:02.514052",
   "version": "2.6.0"
  }
 },
 "nbformat": 4,
 "nbformat_minor": 5
}
