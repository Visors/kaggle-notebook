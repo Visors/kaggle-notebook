{
 "cells": [
  {
   "cell_type": "markdown",
   "id": "27f77277",
   "metadata": {
    "papermill": {
     "duration": 0.007552,
     "end_time": "2025-02-27T09:28:02.040609",
     "exception": false,
     "start_time": "2025-02-27T09:28:02.033057",
     "status": "completed"
    },
    "tags": []
   },
   "source": [
    "**This notebook is an exercise in the [Python](https://www.kaggle.com/learn/python) course.  You can reference the tutorial at [this link](https://www.kaggle.com/colinmorris/booleans-and-conditionals).**\n",
    "\n",
    "---\n"
   ]
  },
  {
   "cell_type": "markdown",
   "id": "188527fb",
   "metadata": {
    "papermill": {
     "duration": 0.006573,
     "end_time": "2025-02-27T09:28:02.054755",
     "exception": false,
     "start_time": "2025-02-27T09:28:02.048182",
     "status": "completed"
    },
    "tags": []
   },
   "source": [
    "In this exercise, you'll put to work what you have learned about booleans and conditionals.\n",
    "\n",
    "To get started, **run the setup code below** before writing your own code (and if you leave this notebook and come back later, don't forget to run the setup code again)."
   ]
  },
  {
   "cell_type": "code",
   "execution_count": 1,
   "id": "70a666ab",
   "metadata": {
    "execution": {
     "iopub.execute_input": "2025-02-27T09:28:02.069446Z",
     "iopub.status.busy": "2025-02-27T09:28:02.069094Z",
     "iopub.status.idle": "2025-02-27T09:28:03.015641Z",
     "shell.execute_reply": "2025-02-27T09:28:03.014355Z"
    },
    "papermill": {
     "duration": 0.955675,
     "end_time": "2025-02-27T09:28:03.017233",
     "exception": false,
     "start_time": "2025-02-27T09:28:02.061558",
     "status": "completed"
    },
    "tags": []
   },
   "outputs": [
    {
     "name": "stdout",
     "output_type": "stream",
     "text": [
      "Setup complete.\n"
     ]
    }
   ],
   "source": [
    "from learntools.core import binder; binder.bind(globals())\n",
    "from learntools.python.ex3 import *\n",
    "print('Setup complete.')"
   ]
  },
  {
   "cell_type": "markdown",
   "id": "c01731fa",
   "metadata": {
    "papermill": {
     "duration": 0.006487,
     "end_time": "2025-02-27T09:28:03.030824",
     "exception": false,
     "start_time": "2025-02-27T09:28:03.024337",
     "status": "completed"
    },
    "tags": []
   },
   "source": [
    "# 1.\n",
    "\n",
    "Many programming languages have [`sign`](https://en.wikipedia.org/wiki/Sign_function) available as a built-in function. Python doesn't, but we can define our own!\n",
    "\n",
    "In the cell below, define a function called `sign` which takes a numerical argument and returns -1 if it's negative, 1 if it's positive, and 0 if it's 0."
   ]
  },
  {
   "cell_type": "code",
   "execution_count": 2,
   "id": "50771f5f",
   "metadata": {
    "execution": {
     "iopub.execute_input": "2025-02-27T09:28:03.045749Z",
     "iopub.status.busy": "2025-02-27T09:28:03.045235Z",
     "iopub.status.idle": "2025-02-27T09:28:03.053846Z",
     "shell.execute_reply": "2025-02-27T09:28:03.052974Z"
    },
    "papermill": {
     "duration": 0.017893,
     "end_time": "2025-02-27T09:28:03.055543",
     "exception": false,
     "start_time": "2025-02-27T09:28:03.037650",
     "status": "completed"
    },
    "tags": []
   },
   "outputs": [
    {
     "data": {
      "application/javascript": [
       "parent.postMessage({\"jupyterEvent\": \"custom.exercise_interaction\", \"data\": {\"outcomeType\": 1, \"valueTowardsCompletion\": 0.2, \"interactionType\": 1, \"questionType\": 2, \"questionId\": \"1_SignFunctionProblem\", \"learnToolsVersion\": \"0.3.4\", \"failureMessage\": \"\", \"exceptionClass\": \"\", \"trace\": \"\"}}, \"*\")"
      ],
      "text/plain": [
       "<IPython.core.display.Javascript object>"
      ]
     },
     "metadata": {},
     "output_type": "display_data"
    },
    {
     "data": {
      "text/markdown": [
       "<span style=\"color:#33cc33\">Correct</span>"
      ],
      "text/plain": [
       "Correct"
      ]
     },
     "metadata": {},
     "output_type": "display_data"
    }
   ],
   "source": [
    "# Your code goes here. Define a function called 'sign'\n",
    "def sign(num):\n",
    "    if num > 0:\n",
    "        return 1\n",
    "    elif num < 0:\n",
    "        return -1\n",
    "    return 0\n",
    "\n",
    "# Check your answer\n",
    "q1.check()"
   ]
  },
  {
   "cell_type": "code",
   "execution_count": 3,
   "id": "4a5eb8be",
   "metadata": {
    "execution": {
     "iopub.execute_input": "2025-02-27T09:28:03.072057Z",
     "iopub.status.busy": "2025-02-27T09:28:03.071730Z",
     "iopub.status.idle": "2025-02-27T09:28:03.075261Z",
     "shell.execute_reply": "2025-02-27T09:28:03.074477Z"
    },
    "papermill": {
     "duration": 0.013021,
     "end_time": "2025-02-27T09:28:03.076813",
     "exception": false,
     "start_time": "2025-02-27T09:28:03.063792",
     "status": "completed"
    },
    "tags": []
   },
   "outputs": [],
   "source": [
    "#q1.solution()"
   ]
  },
  {
   "cell_type": "markdown",
   "id": "5d5a577d",
   "metadata": {
    "papermill": {
     "duration": 0.006731,
     "end_time": "2025-02-27T09:28:03.090809",
     "exception": false,
     "start_time": "2025-02-27T09:28:03.084078",
     "status": "completed"
    },
    "tags": []
   },
   "source": [
    "# 2.\n",
    "\n",
    "We've decided to add \"logging\" to our `to_smash` function from the previous exercise."
   ]
  },
  {
   "cell_type": "code",
   "execution_count": 4,
   "id": "7092d6a0",
   "metadata": {
    "execution": {
     "iopub.execute_input": "2025-02-27T09:28:03.106110Z",
     "iopub.status.busy": "2025-02-27T09:28:03.105751Z",
     "iopub.status.idle": "2025-02-27T09:28:03.113584Z",
     "shell.execute_reply": "2025-02-27T09:28:03.112547Z"
    },
    "papermill": {
     "duration": 0.017361,
     "end_time": "2025-02-27T09:28:03.115176",
     "exception": false,
     "start_time": "2025-02-27T09:28:03.097815",
     "status": "completed"
    },
    "tags": []
   },
   "outputs": [
    {
     "name": "stdout",
     "output_type": "stream",
     "text": [
      "Splitting 91 candies\n"
     ]
    },
    {
     "data": {
      "text/plain": [
       "1"
      ]
     },
     "execution_count": 4,
     "metadata": {},
     "output_type": "execute_result"
    }
   ],
   "source": [
    "def to_smash(total_candies):\n",
    "    \"\"\"Return the number of leftover candies that must be smashed after distributing\n",
    "    the given number of candies evenly between 3 friends.\n",
    "    \n",
    "    >>> to_smash(91)\n",
    "    1\n",
    "    \"\"\"\n",
    "    print(\"Splitting\", total_candies, \"candies\")\n",
    "    return total_candies % 3\n",
    "\n",
    "to_smash(91)"
   ]
  },
  {
   "cell_type": "markdown",
   "id": "fe0adf7a",
   "metadata": {
    "papermill": {
     "duration": 0.006951,
     "end_time": "2025-02-27T09:28:03.129646",
     "exception": false,
     "start_time": "2025-02-27T09:28:03.122695",
     "status": "completed"
    },
    "tags": []
   },
   "source": [
    "What happens if we call it with `total_candies = 1`?"
   ]
  },
  {
   "cell_type": "code",
   "execution_count": 5,
   "id": "6c1fccb9",
   "metadata": {
    "execution": {
     "iopub.execute_input": "2025-02-27T09:28:03.145194Z",
     "iopub.status.busy": "2025-02-27T09:28:03.144836Z",
     "iopub.status.idle": "2025-02-27T09:28:03.151865Z",
     "shell.execute_reply": "2025-02-27T09:28:03.150866Z"
    },
    "papermill": {
     "duration": 0.016917,
     "end_time": "2025-02-27T09:28:03.153665",
     "exception": false,
     "start_time": "2025-02-27T09:28:03.136748",
     "status": "completed"
    },
    "tags": []
   },
   "outputs": [
    {
     "name": "stdout",
     "output_type": "stream",
     "text": [
      "Splitting 1 candies\n"
     ]
    },
    {
     "data": {
      "text/plain": [
       "1"
      ]
     },
     "execution_count": 5,
     "metadata": {},
     "output_type": "execute_result"
    }
   ],
   "source": [
    "to_smash(1)"
   ]
  },
  {
   "cell_type": "markdown",
   "id": "d92428b7",
   "metadata": {
    "papermill": {
     "duration": 0.00706,
     "end_time": "2025-02-27T09:28:03.168261",
     "exception": false,
     "start_time": "2025-02-27T09:28:03.161201",
     "status": "completed"
    },
    "tags": []
   },
   "source": [
    "That isn't great grammar!\n",
    "\n",
    "Modify the definition in the cell below to correct the grammar of our print statement. (If there's only one candy, we should use the singular \"candy\" instead of the plural \"candies\")"
   ]
  },
  {
   "cell_type": "code",
   "execution_count": 6,
   "id": "16c41754",
   "metadata": {
    "execution": {
     "iopub.execute_input": "2025-02-27T09:28:03.184310Z",
     "iopub.status.busy": "2025-02-27T09:28:03.183994Z",
     "iopub.status.idle": "2025-02-27T09:28:03.191572Z",
     "shell.execute_reply": "2025-02-27T09:28:03.190489Z"
    },
    "papermill": {
     "duration": 0.017343,
     "end_time": "2025-02-27T09:28:03.193131",
     "exception": false,
     "start_time": "2025-02-27T09:28:03.175788",
     "status": "completed"
    },
    "tags": []
   },
   "outputs": [
    {
     "name": "stdout",
     "output_type": "stream",
     "text": [
      "Splitting 91 candies\n",
      "Splitting 1 candy\n"
     ]
    },
    {
     "data": {
      "text/plain": [
       "1"
      ]
     },
     "execution_count": 6,
     "metadata": {},
     "output_type": "execute_result"
    }
   ],
   "source": [
    "def to_smash(total_candies):\n",
    "    \"\"\"Return the number of leftover candies that must be smashed after distributing\n",
    "    the given number of candies evenly between 3 friends.\n",
    "    \n",
    "    >>> to_smash(91)\n",
    "    1\n",
    "    \"\"\"\n",
    "    print(\"Splitting\", total_candies, \"candies\" if total_candies != 1 else \"candy\")\n",
    "    return total_candies % 3\n",
    "\n",
    "to_smash(91)\n",
    "to_smash(1)"
   ]
  },
  {
   "cell_type": "markdown",
   "id": "945c0746",
   "metadata": {
    "papermill": {
     "duration": 0.007102,
     "end_time": "2025-02-27T09:28:03.208209",
     "exception": false,
     "start_time": "2025-02-27T09:28:03.201107",
     "status": "completed"
    },
    "tags": []
   },
   "source": [
    "To get credit for completing this problem, and to see the official answer, run the code cell below."
   ]
  },
  {
   "cell_type": "code",
   "execution_count": 7,
   "id": "08bdbadd",
   "metadata": {
    "execution": {
     "iopub.execute_input": "2025-02-27T09:28:03.224695Z",
     "iopub.status.busy": "2025-02-27T09:28:03.224269Z",
     "iopub.status.idle": "2025-02-27T09:28:03.231719Z",
     "shell.execute_reply": "2025-02-27T09:28:03.230691Z"
    },
    "papermill": {
     "duration": 0.017486,
     "end_time": "2025-02-27T09:28:03.233305",
     "exception": false,
     "start_time": "2025-02-27T09:28:03.215819",
     "status": "completed"
    },
    "tags": []
   },
   "outputs": [
    {
     "data": {
      "application/javascript": [
       "parent.postMessage({\"jupyterEvent\": \"custom.exercise_interaction\", \"data\": {\"interactionType\": 3, \"questionType\": 4, \"questionId\": \"2_PluralizationProblem\", \"learnToolsVersion\": \"0.3.4\", \"valueTowardsCompletion\": 0.0, \"failureMessage\": \"\", \"exceptionClass\": \"\", \"trace\": \"\", \"outcomeType\": 4}}, \"*\")"
      ],
      "text/plain": [
       "<IPython.core.display.Javascript object>"
      ]
     },
     "metadata": {},
     "output_type": "display_data"
    },
    {
     "data": {
      "text/markdown": [
       "<span style=\"color:#33cc99\">Solution:</span> A straightforward (and totally fine) solution is to replace the original `print` call with:\n",
       "\n",
       "```python\n",
       "if total_candies == 1:\n",
       "    print(\"Splitting 1 candy\")\n",
       "else:\n",
       "    print(\"Splitting\", total_candies, \"candies\")\n",
       "```\n",
       "\n",
       "Here's a slightly more succinct solution using a conditional expression:\n",
       "\n",
       "```python\n",
       "print(\"Splitting\", total_candies, \"candy\" if total_candies == 1 else \"candies\")\n",
       "```"
      ],
      "text/plain": [
       "Solution: A straightforward (and totally fine) solution is to replace the original `print` call with:\n",
       "\n",
       "```python\n",
       "if total_candies == 1:\n",
       "    print(\"Splitting 1 candy\")\n",
       "else:\n",
       "    print(\"Splitting\", total_candies, \"candies\")\n",
       "```\n",
       "\n",
       "Here's a slightly more succinct solution using a conditional expression:\n",
       "\n",
       "```python\n",
       "print(\"Splitting\", total_candies, \"candy\" if total_candies == 1 else \"candies\")\n",
       "```"
      ]
     },
     "metadata": {},
     "output_type": "display_data"
    }
   ],
   "source": [
    "# Check your answer (Run this code cell to receive credit!)\n",
    "q2.solution()"
   ]
  },
  {
   "cell_type": "markdown",
   "id": "03aed14b",
   "metadata": {
    "papermill": {
     "duration": 0.007548,
     "end_time": "2025-02-27T09:28:03.248837",
     "exception": false,
     "start_time": "2025-02-27T09:28:03.241289",
     "status": "completed"
    },
    "tags": []
   },
   "source": [
    "# 3. <span title=\"A bit spicy\" style=\"color: darkgreen \">🌶️</span>\n",
    "\n",
    "In the tutorial, we talked about deciding whether we're prepared for the weather. I said that I'm safe from today's weather if...\n",
    "- I have an umbrella...\n",
    "- or if the rain isn't too heavy and I have a hood...\n",
    "- otherwise, I'm still fine unless it's raining *and* it's a workday\n",
    "\n",
    "The function below uses our first attempt at turning this logic into a Python expression. I claimed that there was a bug in that code. Can you find it?\n",
    "\n",
    "To prove that `prepared_for_weather` is buggy, come up with a set of inputs where either:\n",
    "- the function returns `False` (but should have returned `True`), or\n",
    "- the function returned `True` (but should have returned `False`).\n",
    "\n",
    "To get credit for completing this question, your code should return a <font color='#33cc33'>Correct</font> result."
   ]
  },
  {
   "cell_type": "code",
   "execution_count": 8,
   "id": "abf7752c",
   "metadata": {
    "execution": {
     "iopub.execute_input": "2025-02-27T09:28:03.265850Z",
     "iopub.status.busy": "2025-02-27T09:28:03.265507Z",
     "iopub.status.idle": "2025-02-27T09:28:03.275445Z",
     "shell.execute_reply": "2025-02-27T09:28:03.274378Z"
    },
    "papermill": {
     "duration": 0.020398,
     "end_time": "2025-02-27T09:28:03.277113",
     "exception": false,
     "start_time": "2025-02-27T09:28:03.256715",
     "status": "completed"
    },
    "tags": []
   },
   "outputs": [
    {
     "name": "stdout",
     "output_type": "stream",
     "text": [
      "False\n"
     ]
    },
    {
     "data": {
      "application/javascript": [
       "parent.postMessage({\"jupyterEvent\": \"custom.exercise_interaction\", \"data\": {\"outcomeType\": 1, \"valueTowardsCompletion\": 0.2, \"interactionType\": 1, \"questionType\": 1, \"questionId\": \"3_WeatherDebug\", \"learnToolsVersion\": \"0.3.4\", \"failureMessage\": \"\", \"exceptionClass\": \"\", \"trace\": \"\"}}, \"*\")"
      ],
      "text/plain": [
       "<IPython.core.display.Javascript object>"
      ]
     },
     "metadata": {},
     "output_type": "display_data"
    },
    {
     "data": {
      "text/markdown": [
       "<span style=\"color:#33cc33\">Correct:</span> \n",
       "\n",
       "One example of a failing test case is:\n",
       "\n",
       "```python\n",
       "have_umbrella = False\n",
       "rain_level = 0.0\n",
       "have_hood = False\n",
       "is_workday = False\n",
       "```\n",
       "\n",
       "Clearly we're prepared for the weather in this case. It's not raining. Not only that, it's not a workday, so we don't even need to leave the house! But our function will return False on these inputs.\n",
       "\n",
       "The key problem is that Python implictly parenthesizes the last part as:\n",
       "\n",
       "```python\n",
       "(not (rain_level > 0)) and is_workday\n",
       "```\n",
       "\n",
       "Whereas what we were trying to express would look more like:\n",
       "\n",
       "```python\n",
       "not (rain_level > 0 and is_workday)\n",
       "```\n"
      ],
      "text/plain": [
       "Correct: \n",
       "\n",
       "One example of a failing test case is:\n",
       "\n",
       "```python\n",
       "have_umbrella = False\n",
       "rain_level = 0.0\n",
       "have_hood = False\n",
       "is_workday = False\n",
       "```\n",
       "\n",
       "Clearly we're prepared for the weather in this case. It's not raining. Not only that, it's not a workday, so we don't even need to leave the house! But our function will return False on these inputs.\n",
       "\n",
       "The key problem is that Python implictly parenthesizes the last part as:\n",
       "\n",
       "```python\n",
       "(not (rain_level > 0)) and is_workday\n",
       "```\n",
       "\n",
       "Whereas what we were trying to express would look more like:\n",
       "\n",
       "```python\n",
       "not (rain_level > 0 and is_workday)\n",
       "```"
      ]
     },
     "metadata": {},
     "output_type": "display_data"
    }
   ],
   "source": [
    "def prepared_for_weather(have_umbrella, rain_level, have_hood, is_workday):\n",
    "    # Don't change this code. Our goal is just to find the bug, not fix it!\n",
    "    return have_umbrella or rain_level < 5 and have_hood or not rain_level > 0 and is_workday\n",
    "\n",
    "# Change the values of these inputs so they represent a case where prepared_for_weather\n",
    "# returns the wrong answer.\n",
    "have_umbrella = False\n",
    "rain_level = 2.0\n",
    "have_hood = False\n",
    "is_workday = False\n",
    "\n",
    "# Check what the function returns given the current values of the variables above\n",
    "actual = prepared_for_weather(have_umbrella, rain_level, have_hood, is_workday)\n",
    "print(actual)\n",
    "\n",
    "# Check your answer\n",
    "q3.check()"
   ]
  },
  {
   "cell_type": "code",
   "execution_count": 9,
   "id": "21db00a5",
   "metadata": {
    "execution": {
     "iopub.execute_input": "2025-02-27T09:28:03.294791Z",
     "iopub.status.busy": "2025-02-27T09:28:03.294383Z",
     "iopub.status.idle": "2025-02-27T09:28:03.298070Z",
     "shell.execute_reply": "2025-02-27T09:28:03.297208Z"
    },
    "papermill": {
     "duration": 0.014089,
     "end_time": "2025-02-27T09:28:03.299579",
     "exception": false,
     "start_time": "2025-02-27T09:28:03.285490",
     "status": "completed"
    },
    "tags": []
   },
   "outputs": [],
   "source": [
    "#q3.hint()\n",
    "#q3.solution()"
   ]
  },
  {
   "cell_type": "markdown",
   "id": "62a7511b",
   "metadata": {
    "papermill": {
     "duration": 0.007911,
     "end_time": "2025-02-27T09:28:03.315702",
     "exception": false,
     "start_time": "2025-02-27T09:28:03.307791",
     "status": "completed"
    },
    "tags": []
   },
   "source": [
    "# 4.\n",
    "\n",
    "The function `is_negative` below is implemented correctly - it returns True if the given number is negative and False otherwise.\n",
    "\n",
    "However, it's more verbose than it needs to be. We can actually reduce the number of lines of code in this function by *75%* while keeping the same behaviour. \n",
    "\n",
    "See if you can come up with an equivalent body that uses just **one line** of code, and put it in the function `concise_is_negative`. (HINT: you don't even need Python's ternary syntax)"
   ]
  },
  {
   "cell_type": "code",
   "execution_count": 10,
   "id": "af34d409",
   "metadata": {
    "execution": {
     "iopub.execute_input": "2025-02-27T09:28:03.333527Z",
     "iopub.status.busy": "2025-02-27T09:28:03.333109Z",
     "iopub.status.idle": "2025-02-27T09:28:03.341276Z",
     "shell.execute_reply": "2025-02-27T09:28:03.340104Z"
    },
    "papermill": {
     "duration": 0.019264,
     "end_time": "2025-02-27T09:28:03.343261",
     "exception": false,
     "start_time": "2025-02-27T09:28:03.323997",
     "status": "completed"
    },
    "tags": []
   },
   "outputs": [
    {
     "data": {
      "application/javascript": [
       "parent.postMessage({\"jupyterEvent\": \"custom.exercise_interaction\", \"data\": {\"outcomeType\": 1, \"valueTowardsCompletion\": 0.2, \"interactionType\": 1, \"questionType\": 2, \"questionId\": \"4_ConciseIsNegative\", \"learnToolsVersion\": \"0.3.4\", \"failureMessage\": \"\", \"exceptionClass\": \"\", \"trace\": \"\"}}, \"*\")"
      ],
      "text/plain": [
       "<IPython.core.display.Javascript object>"
      ]
     },
     "metadata": {},
     "output_type": "display_data"
    },
    {
     "data": {
      "text/markdown": [
       "<span style=\"color:#33cc33\">Correct</span>"
      ],
      "text/plain": [
       "Correct"
      ]
     },
     "metadata": {},
     "output_type": "display_data"
    }
   ],
   "source": [
    "def is_negative(number):\n",
    "    if number < 0:\n",
    "        return True\n",
    "    else:\n",
    "        return False\n",
    "\n",
    "def concise_is_negative(number):\n",
    "    return True if number < 0 else False\n",
    "# Check your answer\n",
    "q4.check()"
   ]
  },
  {
   "cell_type": "code",
   "execution_count": 11,
   "id": "cec77cdb",
   "metadata": {
    "execution": {
     "iopub.execute_input": "2025-02-27T09:28:03.361997Z",
     "iopub.status.busy": "2025-02-27T09:28:03.361605Z",
     "iopub.status.idle": "2025-02-27T09:28:03.365781Z",
     "shell.execute_reply": "2025-02-27T09:28:03.364679Z"
    },
    "papermill": {
     "duration": 0.015744,
     "end_time": "2025-02-27T09:28:03.367557",
     "exception": false,
     "start_time": "2025-02-27T09:28:03.351813",
     "status": "completed"
    },
    "tags": []
   },
   "outputs": [],
   "source": [
    "#q4.hint()\n",
    "#q4.solution()"
   ]
  },
  {
   "cell_type": "markdown",
   "id": "c55c46fe",
   "metadata": {
    "papermill": {
     "duration": 0.008702,
     "end_time": "2025-02-27T09:28:03.384861",
     "exception": false,
     "start_time": "2025-02-27T09:28:03.376159",
     "status": "completed"
    },
    "tags": []
   },
   "source": [
    "# 5a.\n",
    "\n",
    "The boolean variables `ketchup`, `mustard` and `onion` represent whether a customer wants a particular topping on their hot dog. We want to implement a number of boolean functions that correspond to some yes-or-no questions about the customer's order. For example:"
   ]
  },
  {
   "cell_type": "code",
   "execution_count": 12,
   "id": "26f0f2db",
   "metadata": {
    "execution": {
     "iopub.execute_input": "2025-02-27T09:28:03.403225Z",
     "iopub.status.busy": "2025-02-27T09:28:03.402836Z",
     "iopub.status.idle": "2025-02-27T09:28:03.407135Z",
     "shell.execute_reply": "2025-02-27T09:28:03.406011Z"
    },
    "papermill": {
     "duration": 0.015353,
     "end_time": "2025-02-27T09:28:03.408844",
     "exception": false,
     "start_time": "2025-02-27T09:28:03.393491",
     "status": "completed"
    },
    "tags": []
   },
   "outputs": [],
   "source": [
    "def onionless(ketchup, mustard, onion):\n",
    "    \"\"\"Return whether the customer doesn't want onions.\n",
    "    \"\"\"\n",
    "    return not onion"
   ]
  },
  {
   "cell_type": "code",
   "execution_count": 13,
   "id": "602711e2",
   "metadata": {
    "execution": {
     "iopub.execute_input": "2025-02-27T09:28:03.427170Z",
     "iopub.status.busy": "2025-02-27T09:28:03.426784Z",
     "iopub.status.idle": "2025-02-27T09:28:03.434912Z",
     "shell.execute_reply": "2025-02-27T09:28:03.433705Z"
    },
    "papermill": {
     "duration": 0.01917,
     "end_time": "2025-02-27T09:28:03.436585",
     "exception": false,
     "start_time": "2025-02-27T09:28:03.417415",
     "status": "completed"
    },
    "tags": []
   },
   "outputs": [
    {
     "data": {
      "application/javascript": [
       "parent.postMessage({\"jupyterEvent\": \"custom.exercise_interaction\", \"data\": {\"outcomeType\": 1, \"valueTowardsCompletion\": 0.2, \"interactionType\": 1, \"questionType\": 2, \"questionId\": \"5.1_AllToppings\", \"learnToolsVersion\": \"0.3.4\", \"failureMessage\": \"\", \"exceptionClass\": \"\", \"trace\": \"\"}}, \"*\")"
      ],
      "text/plain": [
       "<IPython.core.display.Javascript object>"
      ]
     },
     "metadata": {},
     "output_type": "display_data"
    },
    {
     "data": {
      "text/markdown": [
       "<span style=\"color:#33cc33\">Correct</span>"
      ],
      "text/plain": [
       "Correct"
      ]
     },
     "metadata": {},
     "output_type": "display_data"
    }
   ],
   "source": [
    "def wants_all_toppings(ketchup, mustard, onion):\n",
    "    \"\"\"Return whether the customer wants \"the works\" (all 3 toppings)\n",
    "    \"\"\"\n",
    "    return ketchup and mustard and onion\n",
    "\n",
    "# Check your answer\n",
    "q5.a.check()"
   ]
  },
  {
   "cell_type": "code",
   "execution_count": 14,
   "id": "86493290",
   "metadata": {
    "execution": {
     "iopub.execute_input": "2025-02-27T09:28:03.456099Z",
     "iopub.status.busy": "2025-02-27T09:28:03.455736Z",
     "iopub.status.idle": "2025-02-27T09:28:03.459667Z",
     "shell.execute_reply": "2025-02-27T09:28:03.458544Z"
    },
    "papermill": {
     "duration": 0.015325,
     "end_time": "2025-02-27T09:28:03.461471",
     "exception": false,
     "start_time": "2025-02-27T09:28:03.446146",
     "status": "completed"
    },
    "tags": []
   },
   "outputs": [],
   "source": [
    "#q5.a.hint()\n",
    "#q5.a.solution()"
   ]
  },
  {
   "cell_type": "markdown",
   "id": "dde7c5fc",
   "metadata": {
    "papermill": {
     "duration": 0.008673,
     "end_time": "2025-02-27T09:28:03.479007",
     "exception": false,
     "start_time": "2025-02-27T09:28:03.470334",
     "status": "completed"
    },
    "tags": []
   },
   "source": [
    "# 5b.\n",
    "\n",
    "For the next function, fill in the body to match the English description in the docstring. "
   ]
  },
  {
   "cell_type": "code",
   "execution_count": 15,
   "id": "e4b587b6",
   "metadata": {
    "execution": {
     "iopub.execute_input": "2025-02-27T09:28:03.497624Z",
     "iopub.status.busy": "2025-02-27T09:28:03.497178Z",
     "iopub.status.idle": "2025-02-27T09:28:03.504898Z",
     "shell.execute_reply": "2025-02-27T09:28:03.503832Z"
    },
    "papermill": {
     "duration": 0.018607,
     "end_time": "2025-02-27T09:28:03.506424",
     "exception": false,
     "start_time": "2025-02-27T09:28:03.487817",
     "status": "completed"
    },
    "tags": []
   },
   "outputs": [
    {
     "data": {
      "application/javascript": [
       "parent.postMessage({\"jupyterEvent\": \"custom.exercise_interaction\", \"data\": {\"outcomeType\": 1, \"valueTowardsCompletion\": 0.2, \"interactionType\": 1, \"questionType\": 2, \"questionId\": \"5.2_PlainDog\", \"learnToolsVersion\": \"0.3.4\", \"failureMessage\": \"\", \"exceptionClass\": \"\", \"trace\": \"\"}}, \"*\")"
      ],
      "text/plain": [
       "<IPython.core.display.Javascript object>"
      ]
     },
     "metadata": {},
     "output_type": "display_data"
    },
    {
     "data": {
      "text/markdown": [
       "<span style=\"color:#33cc33\">Correct:</span> \n",
       "\n",
       "One solution looks like:\n",
       "```python\n",
       "return not ketchup and not mustard and not onion\n",
       "```\n",
       "\n",
       "We can also [\"factor out\" the nots](https://en.wikipedia.org/wiki/De_Morgan%27s_laws) to get:\n",
       "\n",
       "```python\n",
       "return not (ketchup or mustard or onion)\n",
       "```"
      ],
      "text/plain": [
       "Correct: \n",
       "\n",
       "One solution looks like:\n",
       "```python\n",
       "return not ketchup and not mustard and not onion\n",
       "```\n",
       "\n",
       "We can also [\"factor out\" the nots](https://en.wikipedia.org/wiki/De_Morgan%27s_laws) to get:\n",
       "\n",
       "```python\n",
       "return not (ketchup or mustard or onion)\n",
       "```"
      ]
     },
     "metadata": {},
     "output_type": "display_data"
    }
   ],
   "source": [
    "def wants_plain_hotdog(ketchup, mustard, onion):\n",
    "    \"\"\"Return whether the customer wants a plain hot dog with no toppings.\n",
    "    \"\"\"\n",
    "    return not ketchup and not mustard and not onion\n",
    "\n",
    "# Check your answer\n",
    "q5.b.check()"
   ]
  },
  {
   "cell_type": "code",
   "execution_count": 16,
   "id": "447d7878",
   "metadata": {
    "execution": {
     "iopub.execute_input": "2025-02-27T09:28:03.525753Z",
     "iopub.status.busy": "2025-02-27T09:28:03.525285Z",
     "iopub.status.idle": "2025-02-27T09:28:03.528842Z",
     "shell.execute_reply": "2025-02-27T09:28:03.527944Z"
    },
    "papermill": {
     "duration": 0.014999,
     "end_time": "2025-02-27T09:28:03.530518",
     "exception": false,
     "start_time": "2025-02-27T09:28:03.515519",
     "status": "completed"
    },
    "tags": []
   },
   "outputs": [],
   "source": [
    "#q5.b.hint()\n",
    "#q5.b.solution()"
   ]
  },
  {
   "cell_type": "markdown",
   "id": "874ea733",
   "metadata": {
    "papermill": {
     "duration": 0.008504,
     "end_time": "2025-02-27T09:28:03.549712",
     "exception": false,
     "start_time": "2025-02-27T09:28:03.541208",
     "status": "completed"
    },
    "tags": []
   },
   "source": [
    "# 5c.\n",
    "\n",
    "You know what to do: for the next function, fill in the body to match the English description in the docstring."
   ]
  },
  {
   "cell_type": "code",
   "execution_count": 17,
   "id": "104a58f2",
   "metadata": {
    "execution": {
     "iopub.execute_input": "2025-02-27T09:28:03.568891Z",
     "iopub.status.busy": "2025-02-27T09:28:03.568521Z",
     "iopub.status.idle": "2025-02-27T09:28:03.576380Z",
     "shell.execute_reply": "2025-02-27T09:28:03.575358Z"
    },
    "papermill": {
     "duration": 0.019144,
     "end_time": "2025-02-27T09:28:03.577926",
     "exception": false,
     "start_time": "2025-02-27T09:28:03.558782",
     "status": "completed"
    },
    "tags": []
   },
   "outputs": [
    {
     "data": {
      "application/javascript": [
       "parent.postMessage({\"jupyterEvent\": \"custom.exercise_interaction\", \"data\": {\"outcomeType\": 1, \"valueTowardsCompletion\": 0.2, \"interactionType\": 1, \"questionType\": 2, \"questionId\": \"5.3_OneSauce\", \"learnToolsVersion\": \"0.3.4\", \"failureMessage\": \"\", \"exceptionClass\": \"\", \"trace\": \"\"}}, \"*\")"
      ],
      "text/plain": [
       "<IPython.core.display.Javascript object>"
      ]
     },
     "metadata": {},
     "output_type": "display_data"
    },
    {
     "data": {
      "text/markdown": [
       "<span style=\"color:#33cc33\">Correct</span>"
      ],
      "text/plain": [
       "Correct"
      ]
     },
     "metadata": {},
     "output_type": "display_data"
    }
   ],
   "source": [
    "def exactly_one_sauce(ketchup, mustard, onion):\n",
    "    \"\"\"Return whether the customer wants either ketchup or mustard, but not both.\n",
    "    (You may be familiar with this operation under the name \"exclusive or\")\n",
    "    \"\"\"\n",
    "    return (ketchup or mustard) and not (ketchup and mustard)\n",
    "\n",
    "# Check your answer\n",
    "q5.c.check()"
   ]
  },
  {
   "cell_type": "code",
   "execution_count": 18,
   "id": "aca7ecfc",
   "metadata": {
    "execution": {
     "iopub.execute_input": "2025-02-27T09:28:03.597727Z",
     "iopub.status.busy": "2025-02-27T09:28:03.597302Z",
     "iopub.status.idle": "2025-02-27T09:28:03.607644Z",
     "shell.execute_reply": "2025-02-27T09:28:03.606457Z"
    },
    "papermill": {
     "duration": 0.021981,
     "end_time": "2025-02-27T09:28:03.609159",
     "exception": false,
     "start_time": "2025-02-27T09:28:03.587178",
     "status": "completed"
    },
    "tags": []
   },
   "outputs": [
    {
     "data": {
      "application/javascript": [
       "parent.postMessage({\"jupyterEvent\": \"custom.exercise_interaction\", \"data\": {\"interactionType\": 2, \"questionType\": 2, \"questionId\": \"5.3_OneSauce\", \"learnToolsVersion\": \"0.3.4\", \"valueTowardsCompletion\": 0.0, \"failureMessage\": \"\", \"exceptionClass\": \"\", \"trace\": \"\", \"outcomeType\": 4}}, \"*\")"
      ],
      "text/plain": [
       "<IPython.core.display.Javascript object>"
      ]
     },
     "metadata": {},
     "output_type": "display_data"
    },
    {
     "data": {
      "text/markdown": [
       "<span style=\"color:#3366cc\">Hint:</span> There are exactly two ways to set ketchup and mustard to make this true. What are they?"
      ],
      "text/plain": [
       "Hint: There are exactly two ways to set ketchup and mustard to make this true. What are they?"
      ]
     },
     "metadata": {},
     "output_type": "display_data"
    },
    {
     "data": {
      "application/javascript": [
       "parent.postMessage({\"jupyterEvent\": \"custom.exercise_interaction\", \"data\": {\"interactionType\": 3, \"questionType\": 2, \"questionId\": \"5.3_OneSauce\", \"learnToolsVersion\": \"0.3.4\", \"valueTowardsCompletion\": 0.0, \"failureMessage\": \"\", \"exceptionClass\": \"\", \"trace\": \"\", \"outcomeType\": 4}}, \"*\")"
      ],
      "text/plain": [
       "<IPython.core.display.Javascript object>"
      ]
     },
     "metadata": {},
     "output_type": "display_data"
    },
    {
     "data": {
      "text/markdown": [
       "<span style=\"color:#33cc99\">Solution:</span> \n",
       "```python\n",
       "return (ketchup and not mustard) or (mustard and not ketchup)\n",
       "```"
      ],
      "text/plain": [
       "Solution: \n",
       "```python\n",
       "return (ketchup and not mustard) or (mustard and not ketchup)\n",
       "```"
      ]
     },
     "metadata": {},
     "output_type": "display_data"
    }
   ],
   "source": [
    "q5.c.hint()\n",
    "q5.c.solution()"
   ]
  },
  {
   "cell_type": "markdown",
   "id": "57736a05",
   "metadata": {
    "papermill": {
     "duration": 0.009133,
     "end_time": "2025-02-27T09:28:03.627987",
     "exception": false,
     "start_time": "2025-02-27T09:28:03.618854",
     "status": "completed"
    },
    "tags": []
   },
   "source": [
    "# 6. <span title=\"A bit spicy\" style=\"color: darkgreen \">🌶️</span>\n",
    "\n",
    "We’ve seen that calling `bool()` on an integer returns `False` if it’s equal to 0 and `True` otherwise. What happens if we call `int()` on a bool? Try it out in the notebook cell below.\n",
    "\n",
    "Can you take advantage of this to write a succinct function that corresponds to the English sentence \"does the customer want exactly one topping?\"?"
   ]
  },
  {
   "cell_type": "code",
   "execution_count": 19,
   "id": "87d4b2a6",
   "metadata": {
    "execution": {
     "iopub.execute_input": "2025-02-27T09:28:03.648374Z",
     "iopub.status.busy": "2025-02-27T09:28:03.647965Z",
     "iopub.status.idle": "2025-02-27T09:28:03.656978Z",
     "shell.execute_reply": "2025-02-27T09:28:03.655736Z"
    },
    "papermill": {
     "duration": 0.02131,
     "end_time": "2025-02-27T09:28:03.658664",
     "exception": false,
     "start_time": "2025-02-27T09:28:03.637354",
     "status": "completed"
    },
    "tags": []
   },
   "outputs": [
    {
     "data": {
      "application/javascript": [
       "parent.postMessage({\"jupyterEvent\": \"custom.exercise_interaction\", \"data\": {\"outcomeType\": 1, \"valueTowardsCompletion\": 0.2, \"interactionType\": 1, \"questionType\": 2, \"questionId\": \"6_OneTopping\", \"learnToolsVersion\": \"0.3.4\", \"failureMessage\": \"\", \"exceptionClass\": \"\", \"trace\": \"\"}}, \"*\")"
      ],
      "text/plain": [
       "<IPython.core.display.Javascript object>"
      ]
     },
     "metadata": {},
     "output_type": "display_data"
    },
    {
     "data": {
      "text/markdown": [
       "<span style=\"color:#33cc33\">Correct:</span> \n",
       "\n",
       "This condition would be pretty complicated to express using just `and`, `or` and `not`, but using boolean-to-integer conversion gives us this short solution:\n",
       "```python\n",
       "return (int(ketchup) + int(mustard) + int(onion)) == 1\n",
       "```\n",
       "\n",
       "Fun fact: we don't technically need to call `int` on the arguments. Just by doing addition with booleans, Python implicitly does the integer conversion. So we could also write...\n",
       "\n",
       "```python\n",
       "return (ketchup + mustard + onion) == 1\n",
       "```"
      ],
      "text/plain": [
       "Correct: \n",
       "\n",
       "This condition would be pretty complicated to express using just `and`, `or` and `not`, but using boolean-to-integer conversion gives us this short solution:\n",
       "```python\n",
       "return (int(ketchup) + int(mustard) + int(onion)) == 1\n",
       "```\n",
       "\n",
       "Fun fact: we don't technically need to call `int` on the arguments. Just by doing addition with booleans, Python implicitly does the integer conversion. So we could also write...\n",
       "\n",
       "```python\n",
       "return (ketchup + mustard + onion) == 1\n",
       "```"
      ]
     },
     "metadata": {},
     "output_type": "display_data"
    }
   ],
   "source": [
    "def exactly_one_topping(ketchup, mustard, onion):\n",
    "    \"\"\"Return whether the customer wants exactly one of the three available toppings\n",
    "    on their hot dog.\n",
    "    \"\"\"\n",
    "    return (ketchup and not mustard and not onion) or (not ketchup and mustard and not onion) or (not ketchup and not mustard and onion)\n",
    "\n",
    "# Check your answer\n",
    "q6.check()"
   ]
  },
  {
   "cell_type": "code",
   "execution_count": 20,
   "id": "b6e90c1e",
   "metadata": {
    "execution": {
     "iopub.execute_input": "2025-02-27T09:28:03.679590Z",
     "iopub.status.busy": "2025-02-27T09:28:03.679169Z",
     "iopub.status.idle": "2025-02-27T09:28:03.683213Z",
     "shell.execute_reply": "2025-02-27T09:28:03.682059Z"
    },
    "papermill": {
     "duration": 0.016267,
     "end_time": "2025-02-27T09:28:03.684903",
     "exception": false,
     "start_time": "2025-02-27T09:28:03.668636",
     "status": "completed"
    },
    "tags": []
   },
   "outputs": [],
   "source": [
    "#q6.hint()\n",
    "#q6.solution()"
   ]
  },
  {
   "cell_type": "markdown",
   "id": "9e31d497",
   "metadata": {
    "papermill": {
     "duration": 0.009439,
     "end_time": "2025-02-27T09:28:03.704430",
     "exception": false,
     "start_time": "2025-02-27T09:28:03.694991",
     "status": "completed"
    },
    "tags": []
   },
   "source": [
    "# 7. <span title=\"A bit spicy\" style=\"color: darkgreen \">🌶️</span> (Optional)\n",
    "\n",
    "In this problem we'll be working with a simplified version of [blackjack](https://en.wikipedia.org/wiki/Blackjack) (aka twenty-one). In this version there is one player (who you'll control) and a dealer. Play proceeds as follows:\n",
    "\n",
    "- The player is dealt two face-up cards. The dealer is dealt one face-up card.\n",
    "- The player may ask to be dealt another card ('hit') as many times as they wish. If the sum of their cards exceeds 21, they lose the round immediately.\n",
    "- The dealer then deals additional cards to himself until either:\n",
    "    - the sum of the dealer's cards exceeds 21, in which case the player wins the round\n",
    "    - the sum of the dealer's cards is greater than or equal to 17. If the player's total is greater than the dealer's, the player wins. Otherwise, the dealer wins (even in case of a tie).\n",
    "    \n",
    "When calculating the sum of cards, Jack, Queen, and King count for 10. Aces can count as 1 or 11 (when referring to a player's \"total\" above, we mean the largest total that can be made without exceeding 21. So e.g. A+8 = 19, A+8+8 = 17)\n",
    "\n",
    "For this problem, you'll write a function representing the player's decision-making strategy in this game. We've provided a very unintelligent implementation below:"
   ]
  },
  {
   "cell_type": "code",
   "execution_count": 21,
   "id": "19e32ea1",
   "metadata": {
    "execution": {
     "iopub.execute_input": "2025-02-27T09:28:03.725435Z",
     "iopub.status.busy": "2025-02-27T09:28:03.725049Z",
     "iopub.status.idle": "2025-02-27T09:28:03.729095Z",
     "shell.execute_reply": "2025-02-27T09:28:03.728260Z"
    },
    "papermill": {
     "duration": 0.016323,
     "end_time": "2025-02-27T09:28:03.730637",
     "exception": false,
     "start_time": "2025-02-27T09:28:03.714314",
     "status": "completed"
    },
    "tags": []
   },
   "outputs": [],
   "source": [
    "def should_hit(dealer_total, player_total, player_low_aces, player_high_aces):\n",
    "    \"\"\"Return True if the player should hit (request another card) given the current game\n",
    "    state, or False if the player should stay.\n",
    "    When calculating a hand's total value, we count aces as \"high\" (with value 11) if doing so\n",
    "    doesn't bring the total above 21, otherwise we count them as low (with value 1). \n",
    "    For example, if the player's hand is {A, A, A, 7}, we will count it as 11 + 1 + 1 + 7,\n",
    "    and therefore set player_total=20, player_low_aces=2, player_high_aces=1.\n",
    "    \"\"\"\n",
    "    return False"
   ]
  },
  {
   "cell_type": "markdown",
   "id": "4a775169",
   "metadata": {
    "papermill": {
     "duration": 0.009409,
     "end_time": "2025-02-27T09:28:03.750292",
     "exception": false,
     "start_time": "2025-02-27T09:28:03.740883",
     "status": "completed"
    },
    "tags": []
   },
   "source": [
    "This very conservative agent *always* sticks with the hand of two cards that they're dealt.\n",
    "\n",
    "We'll be simulating games between your player agent and our own dealer agent by calling your function.\n",
    "\n",
    "Try running the function below to see an example of a simulated game:"
   ]
  },
  {
   "cell_type": "code",
   "execution_count": 22,
   "id": "dc0bfbfe",
   "metadata": {
    "execution": {
     "iopub.execute_input": "2025-02-27T09:28:03.770989Z",
     "iopub.status.busy": "2025-02-27T09:28:03.770611Z",
     "iopub.status.idle": "2025-02-27T09:28:03.777301Z",
     "shell.execute_reply": "2025-02-27T09:28:03.776350Z"
    },
    "papermill": {
     "duration": 0.018998,
     "end_time": "2025-02-27T09:28:03.779085",
     "exception": false,
     "start_time": "2025-02-27T09:28:03.760087",
     "status": "completed"
    },
    "tags": []
   },
   "outputs": [
    {
     "name": "stdout",
     "output_type": "stream",
     "text": [
      "Player starts with 3 and 7 (total = 10)\n",
      "Dealer starts with 10\n",
      "\n",
      "__Player's turn__\n",
      "Player stays\n",
      "\n",
      "__Dealer's turn__\n",
      "Dealer hits and receives J. (total = 20)\n",
      "Dealer stands.\n",
      "Dealer wins. 20 >= 10\n"
     ]
    }
   ],
   "source": [
    "q7.simulate_one_game()"
   ]
  },
  {
   "cell_type": "markdown",
   "id": "f3261374",
   "metadata": {
    "papermill": {
     "duration": 0.009525,
     "end_time": "2025-02-27T09:28:03.799261",
     "exception": false,
     "start_time": "2025-02-27T09:28:03.789736",
     "status": "completed"
    },
    "tags": []
   },
   "source": [
    "The real test of your agent's mettle is their average win rate over many games. Try calling the function below to simulate 50000 games of blackjack (it may take a couple seconds):"
   ]
  },
  {
   "cell_type": "code",
   "execution_count": 23,
   "id": "5cd872f6",
   "metadata": {
    "execution": {
     "iopub.execute_input": "2025-02-27T09:28:03.820515Z",
     "iopub.status.busy": "2025-02-27T09:28:03.820070Z",
     "iopub.status.idle": "2025-02-27T09:28:04.901232Z",
     "shell.execute_reply": "2025-02-27T09:28:04.899908Z"
    },
    "papermill": {
     "duration": 1.093492,
     "end_time": "2025-02-27T09:28:04.902979",
     "exception": false,
     "start_time": "2025-02-27T09:28:03.809487",
     "status": "completed"
    },
    "tags": []
   },
   "outputs": [
    {
     "name": "stdout",
     "output_type": "stream",
     "text": [
      "Player won 19069 out of 50000 games (win rate = 38.1%)\n"
     ]
    }
   ],
   "source": [
    "q7.simulate(n_games=50000)"
   ]
  },
  {
   "cell_type": "markdown",
   "id": "3361eea3",
   "metadata": {
    "papermill": {
     "duration": 0.00985,
     "end_time": "2025-02-27T09:28:04.922933",
     "exception": false,
     "start_time": "2025-02-27T09:28:04.913083",
     "status": "completed"
    },
    "tags": []
   },
   "source": [
    "Our dumb agent that completely ignores the game state still manages to win shockingly often!\n",
    "\n",
    "Try adding some more smarts to the `should_hit` function and see how it affects the results."
   ]
  },
  {
   "cell_type": "code",
   "execution_count": 24,
   "id": "cd289a7c",
   "metadata": {
    "execution": {
     "iopub.execute_input": "2025-02-27T09:28:04.943894Z",
     "iopub.status.busy": "2025-02-27T09:28:04.943543Z",
     "iopub.status.idle": "2025-02-27T09:28:06.023842Z",
     "shell.execute_reply": "2025-02-27T09:28:06.022499Z"
    },
    "papermill": {
     "duration": 1.092837,
     "end_time": "2025-02-27T09:28:06.025664",
     "exception": false,
     "start_time": "2025-02-27T09:28:04.932827",
     "status": "completed"
    },
    "tags": []
   },
   "outputs": [
    {
     "name": "stdout",
     "output_type": "stream",
     "text": [
      "Player won 18941 out of 50000 games (win rate = 37.9%)\n"
     ]
    }
   ],
   "source": [
    "def should_hit(dealer_total, player_total, player_low_aces, player_high_aces):\n",
    "    \"\"\"Return True if the player should hit (request another card) given the current game\n",
    "    state, or False if the player should stay.\n",
    "    When calculating a hand's total value, we count aces as \"high\" (with value 11) if doing so\n",
    "    doesn't bring the total above 21, otherwise we count them as low (with value 1). \n",
    "    For example, if the player's hand is {A, A, A, 7}, we will count it as 11 + 1 + 1 + 7,\n",
    "    and therefore set player_total=20, player_low_aces=2, player_high_aces=1.\n",
    "    \"\"\"\n",
    "    return False\n",
    "\n",
    "q7.simulate(n_games=50000)"
   ]
  },
  {
   "cell_type": "markdown",
   "id": "28d4ccec",
   "metadata": {
    "papermill": {
     "duration": 0.010716,
     "end_time": "2025-02-27T09:28:06.046809",
     "exception": false,
     "start_time": "2025-02-27T09:28:06.036093",
     "status": "completed"
    },
    "tags": []
   },
   "source": [
    "# Keep Going\n",
    "\n",
    "Learn about **[lists and tuples](https://www.kaggle.com/colinmorris/lists)** to handle multiple items of data in a systematic way."
   ]
  },
  {
   "cell_type": "markdown",
   "id": "488e7f44",
   "metadata": {
    "papermill": {
     "duration": 0.009865,
     "end_time": "2025-02-27T09:28:06.067314",
     "exception": false,
     "start_time": "2025-02-27T09:28:06.057449",
     "status": "completed"
    },
    "tags": []
   },
   "source": [
    "---\n",
    "\n",
    "\n",
    "\n",
    "\n",
    "*Have questions or comments? Visit the [course discussion forum](https://www.kaggle.com/learn/python/discussion) to chat with other learners.*"
   ]
  }
 ],
 "metadata": {
  "kaggle": {
   "accelerator": "none",
   "dataSources": [],
   "isGpuEnabled": false,
   "isInternetEnabled": false,
   "language": "python",
   "sourceType": "notebook"
  },
  "kernelspec": {
   "display_name": "Python 3",
   "language": "python",
   "name": "python3"
  },
  "language_info": {
   "codemirror_mode": {
    "name": "ipython",
    "version": 3
   },
   "file_extension": ".py",
   "mimetype": "text/x-python",
   "name": "python",
   "nbconvert_exporter": "python",
   "pygments_lexer": "ipython3",
   "version": "3.10.12"
  },
  "learntools_metadata": {
   "lesson_index": 2,
   "type": "exercise"
  },
  "papermill": {
   "default_parameters": {},
   "duration": 7.421806,
   "end_time": "2025-02-27T09:28:06.697510",
   "environment_variables": {},
   "exception": null,
   "input_path": "__notebook__.ipynb",
   "output_path": "__notebook__.ipynb",
   "parameters": {},
   "start_time": "2025-02-27T09:27:59.275704",
   "version": "2.6.0"
  }
 },
 "nbformat": 4,
 "nbformat_minor": 5
}
